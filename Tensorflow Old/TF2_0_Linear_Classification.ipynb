{
 "cells": [
  {
   "cell_type": "code",
   "execution_count": 1,
   "metadata": {
    "colab": {
     "base_uri": "https://localhost:8080/",
     "height": 119
    },
    "id": "DeNaBVyT4pn1",
    "outputId": "a9fb464c-b779-4f7c-df54-63bbc35e4661"
   },
   "outputs": [
    {
     "name": "stdout",
     "output_type": "stream",
     "text": [
      "INFO:tensorflow:Enabling eager execution\n",
      "INFO:tensorflow:Enabling v2 tensorshape\n",
      "INFO:tensorflow:Enabling resource variables\n",
      "INFO:tensorflow:Enabling tensor equality\n",
      "INFO:tensorflow:Enabling control flow v2\n",
      "2.5.0-rc0\n"
     ]
    }
   ],
   "source": [
    "import tensorflow as tf\n",
    "print(tf.__version__)"
   ]
  },
  {
   "cell_type": "code",
   "execution_count": 3,
   "metadata": {},
   "outputs": [],
   "source": [
    "from sklearn.datasets import load_breast_cancer\n",
    "data = load_breast_cancer()"
   ]
  },
  {
   "cell_type": "code",
   "execution_count": 5,
   "metadata": {},
   "outputs": [],
   "source": [
    "from sklearn.model_selection import train_test_split"
   ]
  },
  {
   "cell_type": "code",
   "execution_count": 44,
   "metadata": {},
   "outputs": [],
   "source": [
    "#data\n",
    "x_train, x_test, y_train, y_test = train_test_split(data.data, data.target)"
   ]
  },
  {
   "cell_type": "code",
   "execution_count": 19,
   "metadata": {},
   "outputs": [],
   "source": [
    "from sklearn import preprocessing\n",
    "scaler = preprocessing.StandardScaler()"
   ]
  },
  {
   "cell_type": "code",
   "execution_count": 45,
   "metadata": {},
   "outputs": [],
   "source": [
    "#x_train\n",
    "x_train = scaler.fit_transform(x_train)\n",
    "#x_train"
   ]
  },
  {
   "cell_type": "code",
   "execution_count": 46,
   "metadata": {},
   "outputs": [],
   "source": [
    "x_test = scaler.fit_transform(x_test)"
   ]
  },
  {
   "cell_type": "code",
   "execution_count": 25,
   "metadata": {},
   "outputs": [],
   "source": [
    "N, D = x_train.shape"
   ]
  },
  {
   "cell_type": "code",
   "execution_count": 47,
   "metadata": {},
   "outputs": [
    {
     "name": "stdout",
     "output_type": "stream",
     "text": [
      "WARNING:tensorflow:Please add `keras.layers.InputLayer` instead of `keras.Input` to Sequential model. `keras.Input` is intended to be used by Functional model.\n"
     ]
    }
   ],
   "source": [
    "model = tf.keras.Sequential([\n",
    "                                tf.keras.layers.Input(shape=(D,)),\n",
    "                                tf.keras.layers.Dense(1, activation='sigmoid')\n",
    "                            ])"
   ]
  },
  {
   "cell_type": "code",
   "execution_count": 48,
   "metadata": {},
   "outputs": [],
   "source": [
    "model.compile(loss='binary_crossentropy', optimizer='adam', metrics=['accuracy'])"
   ]
  },
  {
   "cell_type": "code",
   "execution_count": 49,
   "metadata": {},
   "outputs": [
    {
     "name": "stdout",
     "output_type": "stream",
     "text": [
      "Epoch 1/100\n",
      "14/14 [==============================] - 0s 11ms/step - loss: 0.7933 - accuracy: 0.4748 - val_loss: 0.6910 - val_accuracy: 0.5455\n",
      "Epoch 2/100\n",
      "14/14 [==============================] - 0s 3ms/step - loss: 0.6791 - accuracy: 0.5818 - val_loss: 0.6250 - val_accuracy: 0.6364\n",
      "Epoch 3/100\n",
      "14/14 [==============================] - 0s 3ms/step - loss: 0.6204 - accuracy: 0.6992 - val_loss: 0.5708 - val_accuracy: 0.6713\n",
      "Epoch 4/100\n",
      "14/14 [==============================] - 0s 3ms/step - loss: 0.5909 - accuracy: 0.7205 - val_loss: 0.5254 - val_accuracy: 0.7552\n",
      "Epoch 5/100\n",
      "14/14 [==============================] - 0s 3ms/step - loss: 0.5257 - accuracy: 0.7660 - val_loss: 0.4874 - val_accuracy: 0.7902\n",
      "Epoch 6/100\n",
      "14/14 [==============================] - 0s 3ms/step - loss: 0.4794 - accuracy: 0.7889 - val_loss: 0.4552 - val_accuracy: 0.8112\n",
      "Epoch 7/100\n",
      "14/14 [==============================] - 0s 2ms/step - loss: 0.4226 - accuracy: 0.8375 - val_loss: 0.4274 - val_accuracy: 0.8252\n",
      "Epoch 8/100\n",
      "14/14 [==============================] - 0s 2ms/step - loss: 0.4094 - accuracy: 0.8413 - val_loss: 0.4038 - val_accuracy: 0.8531\n",
      "Epoch 9/100\n",
      "14/14 [==============================] - 0s 2ms/step - loss: 0.4233 - accuracy: 0.8505 - val_loss: 0.3838 - val_accuracy: 0.8601\n",
      "Epoch 10/100\n",
      "14/14 [==============================] - 0s 2ms/step - loss: 0.4043 - accuracy: 0.8322 - val_loss: 0.3658 - val_accuracy: 0.8741\n",
      "Epoch 11/100\n",
      "14/14 [==============================] - 0s 3ms/step - loss: 0.3612 - accuracy: 0.8558 - val_loss: 0.3508 - val_accuracy: 0.8741\n",
      "Epoch 12/100\n",
      "14/14 [==============================] - 0s 2ms/step - loss: 0.3321 - accuracy: 0.8711 - val_loss: 0.3367 - val_accuracy: 0.8671\n",
      "Epoch 13/100\n",
      "14/14 [==============================] - 0s 2ms/step - loss: 0.3166 - accuracy: 0.8726 - val_loss: 0.3243 - val_accuracy: 0.8741\n",
      "Epoch 14/100\n",
      "14/14 [==============================] - 0s 3ms/step - loss: 0.3169 - accuracy: 0.8756 - val_loss: 0.3137 - val_accuracy: 0.8811\n",
      "Epoch 15/100\n",
      "14/14 [==============================] - 0s 3ms/step - loss: 0.2922 - accuracy: 0.8859 - val_loss: 0.3034 - val_accuracy: 0.8811\n",
      "Epoch 16/100\n",
      "14/14 [==============================] - 0s 3ms/step - loss: 0.3035 - accuracy: 0.8611 - val_loss: 0.2939 - val_accuracy: 0.8951\n",
      "Epoch 17/100\n",
      "14/14 [==============================] - 0s 3ms/step - loss: 0.2872 - accuracy: 0.8907 - val_loss: 0.2854 - val_accuracy: 0.8951\n",
      "Epoch 18/100\n",
      "14/14 [==============================] - 0s 3ms/step - loss: 0.2660 - accuracy: 0.9015 - val_loss: 0.2772 - val_accuracy: 0.8951\n",
      "Epoch 19/100\n",
      "14/14 [==============================] - 0s 2ms/step - loss: 0.2575 - accuracy: 0.8983 - val_loss: 0.2701 - val_accuracy: 0.8951\n",
      "Epoch 20/100\n",
      "14/14 [==============================] - 0s 2ms/step - loss: 0.2370 - accuracy: 0.9085 - val_loss: 0.2630 - val_accuracy: 0.9021\n",
      "Epoch 21/100\n",
      "14/14 [==============================] - 0s 2ms/step - loss: 0.2443 - accuracy: 0.9161 - val_loss: 0.2564 - val_accuracy: 0.9021\n",
      "Epoch 22/100\n",
      "14/14 [==============================] - 0s 3ms/step - loss: 0.2352 - accuracy: 0.9137 - val_loss: 0.2505 - val_accuracy: 0.9161\n",
      "Epoch 23/100\n",
      "14/14 [==============================] - 0s 3ms/step - loss: 0.2311 - accuracy: 0.9133 - val_loss: 0.2451 - val_accuracy: 0.9161\n",
      "Epoch 24/100\n",
      "14/14 [==============================] - 0s 3ms/step - loss: 0.2312 - accuracy: 0.9203 - val_loss: 0.2399 - val_accuracy: 0.9161\n",
      "Epoch 25/100\n",
      "14/14 [==============================] - 0s 3ms/step - loss: 0.2265 - accuracy: 0.9152 - val_loss: 0.2351 - val_accuracy: 0.9231\n",
      "Epoch 26/100\n",
      "14/14 [==============================] - 0s 3ms/step - loss: 0.2167 - accuracy: 0.9044 - val_loss: 0.2306 - val_accuracy: 0.9371\n",
      "Epoch 27/100\n",
      "14/14 [==============================] - 0s 2ms/step - loss: 0.2161 - accuracy: 0.9288 - val_loss: 0.2264 - val_accuracy: 0.9371\n",
      "Epoch 28/100\n",
      "14/14 [==============================] - 0s 3ms/step - loss: 0.2195 - accuracy: 0.9130 - val_loss: 0.2225 - val_accuracy: 0.9371\n",
      "Epoch 29/100\n",
      "14/14 [==============================] - 0s 3ms/step - loss: 0.2004 - accuracy: 0.9270 - val_loss: 0.2188 - val_accuracy: 0.9371\n",
      "Epoch 30/100\n",
      "14/14 [==============================] - 0s 2ms/step - loss: 0.1875 - accuracy: 0.9255 - val_loss: 0.2152 - val_accuracy: 0.9371\n",
      "Epoch 31/100\n",
      "14/14 [==============================] - 0s 3ms/step - loss: 0.2064 - accuracy: 0.8980 - val_loss: 0.2118 - val_accuracy: 0.9371\n",
      "Epoch 32/100\n",
      "14/14 [==============================] - 0s 3ms/step - loss: 0.2033 - accuracy: 0.9115 - val_loss: 0.2087 - val_accuracy: 0.9371\n",
      "Epoch 33/100\n",
      "14/14 [==============================] - 0s 3ms/step - loss: 0.1834 - accuracy: 0.9292 - val_loss: 0.2056 - val_accuracy: 0.9371\n",
      "Epoch 34/100\n",
      "14/14 [==============================] - 0s 3ms/step - loss: 0.1666 - accuracy: 0.9246 - val_loss: 0.2028 - val_accuracy: 0.9371\n",
      "Epoch 35/100\n",
      "14/14 [==============================] - 0s 3ms/step - loss: 0.1774 - accuracy: 0.9254 - val_loss: 0.2003 - val_accuracy: 0.9441\n",
      "Epoch 36/100\n",
      "14/14 [==============================] - 0s 3ms/step - loss: 0.1730 - accuracy: 0.9340 - val_loss: 0.1976 - val_accuracy: 0.9441\n",
      "Epoch 37/100\n",
      "14/14 [==============================] - 0s 3ms/step - loss: 0.1582 - accuracy: 0.9459 - val_loss: 0.1950 - val_accuracy: 0.9441\n",
      "Epoch 38/100\n",
      "14/14 [==============================] - 0s 3ms/step - loss: 0.1647 - accuracy: 0.9420 - val_loss: 0.1927 - val_accuracy: 0.9441\n",
      "Epoch 39/100\n",
      "14/14 [==============================] - 0s 3ms/step - loss: 0.1628 - accuracy: 0.9424 - val_loss: 0.1909 - val_accuracy: 0.9441\n",
      "Epoch 40/100\n",
      "14/14 [==============================] - 0s 3ms/step - loss: 0.1629 - accuracy: 0.9396 - val_loss: 0.1888 - val_accuracy: 0.9441\n",
      "Epoch 41/100\n",
      "14/14 [==============================] - 0s 3ms/step - loss: 0.1560 - accuracy: 0.9498 - val_loss: 0.1869 - val_accuracy: 0.9441\n",
      "Epoch 42/100\n",
      "14/14 [==============================] - 0s 3ms/step - loss: 0.1425 - accuracy: 0.9565 - val_loss: 0.1853 - val_accuracy: 0.9441\n",
      "Epoch 43/100\n",
      "14/14 [==============================] - 0s 3ms/step - loss: 0.1547 - accuracy: 0.9507 - val_loss: 0.1834 - val_accuracy: 0.9441\n",
      "Epoch 44/100\n",
      "14/14 [==============================] - 0s 2ms/step - loss: 0.1638 - accuracy: 0.9387 - val_loss: 0.1819 - val_accuracy: 0.9441\n",
      "Epoch 45/100\n",
      "14/14 [==============================] - 0s 3ms/step - loss: 0.1522 - accuracy: 0.9437 - val_loss: 0.1801 - val_accuracy: 0.9441\n",
      "Epoch 46/100\n",
      "14/14 [==============================] - 0s 3ms/step - loss: 0.1607 - accuracy: 0.9451 - val_loss: 0.1786 - val_accuracy: 0.9441\n",
      "Epoch 47/100\n",
      "14/14 [==============================] - 0s 3ms/step - loss: 0.1328 - accuracy: 0.9640 - val_loss: 0.1771 - val_accuracy: 0.9441\n",
      "Epoch 48/100\n",
      "14/14 [==============================] - 0s 3ms/step - loss: 0.1388 - accuracy: 0.9684 - val_loss: 0.1755 - val_accuracy: 0.9441\n",
      "Epoch 49/100\n",
      "14/14 [==============================] - 0s 3ms/step - loss: 0.1415 - accuracy: 0.9559 - val_loss: 0.1743 - val_accuracy: 0.9441\n",
      "Epoch 50/100\n",
      "14/14 [==============================] - 0s 3ms/step - loss: 0.1527 - accuracy: 0.9467 - val_loss: 0.1728 - val_accuracy: 0.9441\n",
      "Epoch 51/100\n",
      "14/14 [==============================] - 0s 3ms/step - loss: 0.1389 - accuracy: 0.9545 - val_loss: 0.1715 - val_accuracy: 0.9441\n",
      "Epoch 52/100\n",
      "14/14 [==============================] - 0s 3ms/step - loss: 0.1212 - accuracy: 0.9585 - val_loss: 0.1704 - val_accuracy: 0.9441\n",
      "Epoch 53/100\n",
      "14/14 [==============================] - 0s 3ms/step - loss: 0.1397 - accuracy: 0.9506 - val_loss: 0.1694 - val_accuracy: 0.9441\n",
      "Epoch 54/100\n",
      "14/14 [==============================] - 0s 3ms/step - loss: 0.1257 - accuracy: 0.9595 - val_loss: 0.1684 - val_accuracy: 0.9441\n",
      "Epoch 55/100\n",
      "14/14 [==============================] - 0s 3ms/step - loss: 0.1190 - accuracy: 0.9590 - val_loss: 0.1673 - val_accuracy: 0.9441\n",
      "Epoch 56/100\n",
      "14/14 [==============================] - 0s 3ms/step - loss: 0.1330 - accuracy: 0.9614 - val_loss: 0.1659 - val_accuracy: 0.9441\n",
      "Epoch 57/100\n",
      "14/14 [==============================] - 0s 3ms/step - loss: 0.1189 - accuracy: 0.9559 - val_loss: 0.1646 - val_accuracy: 0.9441\n",
      "Epoch 58/100\n",
      "14/14 [==============================] - 0s 3ms/step - loss: 0.1144 - accuracy: 0.9644 - val_loss: 0.1637 - val_accuracy: 0.9441\n"
     ]
    },
    {
     "name": "stdout",
     "output_type": "stream",
     "text": [
      "Epoch 59/100\n",
      "14/14 [==============================] - 0s 3ms/step - loss: 0.1214 - accuracy: 0.9543 - val_loss: 0.1629 - val_accuracy: 0.9441\n",
      "Epoch 60/100\n",
      "14/14 [==============================] - 0s 3ms/step - loss: 0.1370 - accuracy: 0.9511 - val_loss: 0.1618 - val_accuracy: 0.9441\n",
      "Epoch 61/100\n",
      "14/14 [==============================] - 0s 3ms/step - loss: 0.1271 - accuracy: 0.9564 - val_loss: 0.1613 - val_accuracy: 0.9441\n",
      "Epoch 62/100\n",
      "14/14 [==============================] - 0s 3ms/step - loss: 0.1347 - accuracy: 0.9562 - val_loss: 0.1603 - val_accuracy: 0.9441\n",
      "Epoch 63/100\n",
      "14/14 [==============================] - 0s 3ms/step - loss: 0.1306 - accuracy: 0.9565 - val_loss: 0.1596 - val_accuracy: 0.9441\n",
      "Epoch 64/100\n",
      "14/14 [==============================] - 0s 3ms/step - loss: 0.1109 - accuracy: 0.9667 - val_loss: 0.1587 - val_accuracy: 0.9441\n",
      "Epoch 65/100\n",
      "14/14 [==============================] - 0s 3ms/step - loss: 0.1145 - accuracy: 0.9657 - val_loss: 0.1581 - val_accuracy: 0.9441\n",
      "Epoch 66/100\n",
      "14/14 [==============================] - 0s 3ms/step - loss: 0.1118 - accuracy: 0.9720 - val_loss: 0.1576 - val_accuracy: 0.9441\n",
      "Epoch 67/100\n",
      "14/14 [==============================] - 0s 3ms/step - loss: 0.1076 - accuracy: 0.9667 - val_loss: 0.1570 - val_accuracy: 0.9441\n",
      "Epoch 68/100\n",
      "14/14 [==============================] - 0s 3ms/step - loss: 0.1143 - accuracy: 0.9615 - val_loss: 0.1563 - val_accuracy: 0.9441\n",
      "Epoch 69/100\n",
      "14/14 [==============================] - 0s 3ms/step - loss: 0.0991 - accuracy: 0.9745 - val_loss: 0.1555 - val_accuracy: 0.9441\n",
      "Epoch 70/100\n",
      "14/14 [==============================] - 0s 3ms/step - loss: 0.1030 - accuracy: 0.9668 - val_loss: 0.1548 - val_accuracy: 0.9441\n",
      "Epoch 71/100\n",
      "14/14 [==============================] - 0s 3ms/step - loss: 0.0973 - accuracy: 0.9792 - val_loss: 0.1541 - val_accuracy: 0.9441\n",
      "Epoch 72/100\n",
      "14/14 [==============================] - 0s 3ms/step - loss: 0.1132 - accuracy: 0.9638 - val_loss: 0.1535 - val_accuracy: 0.9441\n",
      "Epoch 73/100\n",
      "14/14 [==============================] - 0s 2ms/step - loss: 0.0998 - accuracy: 0.9735 - val_loss: 0.1530 - val_accuracy: 0.9441\n",
      "Epoch 74/100\n",
      "14/14 [==============================] - 0s 2ms/step - loss: 0.1093 - accuracy: 0.9678 - val_loss: 0.1523 - val_accuracy: 0.9441\n",
      "Epoch 75/100\n",
      "14/14 [==============================] - 0s 2ms/step - loss: 0.1083 - accuracy: 0.9690 - val_loss: 0.1517 - val_accuracy: 0.9441\n",
      "Epoch 76/100\n",
      "14/14 [==============================] - 0s 3ms/step - loss: 0.1257 - accuracy: 0.9536 - val_loss: 0.1512 - val_accuracy: 0.9441\n",
      "Epoch 77/100\n",
      "14/14 [==============================] - 0s 3ms/step - loss: 0.0986 - accuracy: 0.9729 - val_loss: 0.1505 - val_accuracy: 0.9441\n",
      "Epoch 78/100\n",
      "14/14 [==============================] - 0s 3ms/step - loss: 0.0928 - accuracy: 0.9797 - val_loss: 0.1500 - val_accuracy: 0.9441\n",
      "Epoch 79/100\n",
      "14/14 [==============================] - 0s 3ms/step - loss: 0.1057 - accuracy: 0.9701 - val_loss: 0.1494 - val_accuracy: 0.9441\n",
      "Epoch 80/100\n",
      "14/14 [==============================] - 0s 3ms/step - loss: 0.0993 - accuracy: 0.9715 - val_loss: 0.1490 - val_accuracy: 0.9441\n",
      "Epoch 81/100\n",
      "14/14 [==============================] - 0s 3ms/step - loss: 0.0964 - accuracy: 0.9835 - val_loss: 0.1482 - val_accuracy: 0.9441\n",
      "Epoch 82/100\n",
      "14/14 [==============================] - 0s 3ms/step - loss: 0.1214 - accuracy: 0.9643 - val_loss: 0.1480 - val_accuracy: 0.9441\n",
      "Epoch 83/100\n",
      "14/14 [==============================] - 0s 3ms/step - loss: 0.0963 - accuracy: 0.9768 - val_loss: 0.1476 - val_accuracy: 0.9441\n",
      "Epoch 84/100\n",
      "14/14 [==============================] - 0s 3ms/step - loss: 0.1024 - accuracy: 0.9727 - val_loss: 0.1472 - val_accuracy: 0.9441\n",
      "Epoch 85/100\n",
      "14/14 [==============================] - 0s 3ms/step - loss: 0.1004 - accuracy: 0.9741 - val_loss: 0.1468 - val_accuracy: 0.9441\n",
      "Epoch 86/100\n",
      "14/14 [==============================] - 0s 3ms/step - loss: 0.0841 - accuracy: 0.9790 - val_loss: 0.1463 - val_accuracy: 0.9441\n",
      "Epoch 87/100\n",
      "14/14 [==============================] - 0s 3ms/step - loss: 0.0918 - accuracy: 0.9733 - val_loss: 0.1461 - val_accuracy: 0.9441\n",
      "Epoch 88/100\n",
      "14/14 [==============================] - 0s 3ms/step - loss: 0.0927 - accuracy: 0.9694 - val_loss: 0.1457 - val_accuracy: 0.9441\n",
      "Epoch 89/100\n",
      "14/14 [==============================] - 0s 3ms/step - loss: 0.0789 - accuracy: 0.9824 - val_loss: 0.1453 - val_accuracy: 0.9441\n",
      "Epoch 90/100\n",
      "14/14 [==============================] - 0s 3ms/step - loss: 0.0873 - accuracy: 0.9733 - val_loss: 0.1452 - val_accuracy: 0.9441\n",
      "Epoch 91/100\n",
      "14/14 [==============================] - 0s 2ms/step - loss: 0.0764 - accuracy: 0.9817 - val_loss: 0.1448 - val_accuracy: 0.9441\n",
      "Epoch 92/100\n",
      "14/14 [==============================] - 0s 2ms/step - loss: 0.1019 - accuracy: 0.9611 - val_loss: 0.1444 - val_accuracy: 0.9441\n",
      "Epoch 93/100\n",
      "14/14 [==============================] - 0s 3ms/step - loss: 0.0878 - accuracy: 0.9695 - val_loss: 0.1440 - val_accuracy: 0.9510\n",
      "Epoch 94/100\n",
      "14/14 [==============================] - 0s 2ms/step - loss: 0.0858 - accuracy: 0.9755 - val_loss: 0.1435 - val_accuracy: 0.9510\n",
      "Epoch 95/100\n",
      "14/14 [==============================] - 0s 3ms/step - loss: 0.0868 - accuracy: 0.9764 - val_loss: 0.1435 - val_accuracy: 0.9510\n",
      "Epoch 96/100\n",
      "14/14 [==============================] - 0s 3ms/step - loss: 0.1040 - accuracy: 0.9580 - val_loss: 0.1432 - val_accuracy: 0.9510\n",
      "Epoch 97/100\n",
      "14/14 [==============================] - 0s 3ms/step - loss: 0.0799 - accuracy: 0.9793 - val_loss: 0.1428 - val_accuracy: 0.9510\n",
      "Epoch 98/100\n",
      "14/14 [==============================] - 0s 2ms/step - loss: 0.0880 - accuracy: 0.9636 - val_loss: 0.1427 - val_accuracy: 0.9510\n",
      "Epoch 99/100\n",
      "14/14 [==============================] - 0s 3ms/step - loss: 0.0807 - accuracy: 0.9736 - val_loss: 0.1425 - val_accuracy: 0.9510\n",
      "Epoch 100/100\n",
      "14/14 [==============================] - 0s 2ms/step - loss: 0.0955 - accuracy: 0.9716 - val_loss: 0.1420 - val_accuracy: 0.9510\n"
     ]
    }
   ],
   "source": [
    "r = model.fit(x_train, y_train, validation_data=(x_test, y_test), epochs=100)"
   ]
  },
  {
   "cell_type": "code",
   "execution_count": 50,
   "metadata": {},
   "outputs": [
    {
     "data": {
      "text/plain": [
       "<matplotlib.legend.Legend at 0x1f0030e6850>"
      ]
     },
     "execution_count": 50,
     "metadata": {},
     "output_type": "execute_result"
    },
    {
     "data": {
      "image/png": "[encoded data removed]",
      "text/plain": [
       "<Figure size 432x288 with 1 Axes>"
      ]
     },
     "metadata": {
      "needs_background": "light"
     },
     "output_type": "display_data"
    }
   ],
   "source": [
    "import matplotlib.pyplot as plt\n",
    "plt.plot(r.history['loss'], label='loss')\n",
    "plt.plot(r.history['val_loss'], label='val_loss')\n",
    "plt.legend()"
   ]
  },
  {
   "cell_type": "code",
   "execution_count": null,
   "metadata": {},
   "outputs": [],
   "source": []
  },
  {
   "cell_type": "code",
   "execution_count": null,
   "metadata": {},
   "outputs": [],
   "source": []
  },
  {
   "cell_type": "code",
   "execution_count": null,
   "metadata": {},
   "outputs": [],
   "source": []
  },
  {
   "cell_type": "code",
   "execution_count": null,
   "metadata": {
    "id": "EtMPQxpC4xD0"
   },
   "outputs": [],
   "source": [
    "# Load in the data\n",
    "from sklearn.datasets import load_breast_cancer"
   ]
  },
  {
   "cell_type": "code",
   "execution_count": null,
   "metadata": {
    "id": "pwJ9LvEE5B_z"
   },
   "outputs": [],
   "source": [
    "# load the data\n",
    "data = load_breast_cancer()"
   ]
  },
  {
   "cell_type": "code",
   "execution_count": null,
   "metadata": {
    "colab": {
     "base_uri": "https://localhost:8080/",
     "height": 34
    },
    "id": "wNkavJSj5EcV",
    "outputId": "81560b8c-1027-4c3e-c9a0-a0979e0b61c8"
   },
   "outputs": [
    {
     "data": {
      "text/plain": [
       "sklearn.utils.Bunch"
      ]
     },
     "execution_count": 4,
     "metadata": {
      "tags": []
     },
     "output_type": "execute_result"
    }
   ],
   "source": [
    "# check the type of 'data'\n",
    "type(data)"
   ]
  },
  {
   "cell_type": "code",
   "execution_count": null,
   "metadata": {
    "colab": {
     "base_uri": "https://localhost:8080/",
     "height": 34
    },
    "id": "OsWYmnYR5GQq",
    "outputId": "8d7a59a0-c3b3-474f-8a9b-f0e9a2836eff"
   },
   "outputs": [
    {
     "data": {
      "text/plain": [
       "dict_keys(['data', 'target', 'target_names', 'DESCR', 'feature_names', 'filename'])"
      ]
     },
     "execution_count": 5,
     "metadata": {
      "tags": []
     },
     "output_type": "execute_result"
    }
   ],
   "source": [
    "# note: it is a Bunch object\n",
    "# this basically acts like a dictionary where you can treat the keys like attributes\n",
    "data.keys()"
   ]
  },
  {
   "cell_type": "code",
   "execution_count": null,
   "metadata": {
    "colab": {
     "base_uri": "https://localhost:8080/",
     "height": 34
    },
    "id": "HRYJw4hN5JXD",
    "outputId": "823efc87-d4e7-4a02-a552-d4848a0cbe2e"
   },
   "outputs": [
    {
     "data": {
      "text/plain": [
       "(569, 30)"
      ]
     },
     "execution_count": 6,
     "metadata": {
      "tags": []
     },
     "output_type": "execute_result"
    }
   ],
   "source": [
    "# 'data' (the attribute) means the input data\n",
    "data.data.shape\n",
    "# it has 569 samples, 30 features"
   ]
  },
  {
   "cell_type": "code",
   "execution_count": null,
   "metadata": {
    "colab": {
     "base_uri": "https://localhost:8080/",
     "height": 459
    },
    "id": "G5OVVVge5L-h",
    "outputId": "ed75fd87-2ed9-4a70-99fe-fd18a702e703"
   },
   "outputs": [
    {
     "data": {
      "text/plain": [
       "array([0, 0, 0, 0, 0, 0, 0, 0, 0, 0, 0, 0, 0, 0, 0, 0, 0, 0, 0, 1, 1, 1,\n",
       "       0, 0, 0, 0, 0, 0, 0, 0, 0, 0, 0, 0, 0, 0, 0, 1, 0, 0, 0, 0, 0, 0,\n",
       "       0, 0, 1, 0, 1, 1, 1, 1, 1, 0, 0, 1, 0, 0, 1, 1, 1, 1, 0, 1, 0, 0,\n",
       "       1, 1, 1, 1, 0, 1, 0, 0, 1, 0, 1, 0, 0, 1, 1, 1, 0, 0, 1, 0, 0, 0,\n",
       "       1, 1, 1, 0, 1, 1, 0, 0, 1, 1, 1, 0, 0, 1, 1, 1, 1, 0, 1, 1, 0, 1,\n",
       "       1, 1, 1, 1, 1, 1, 1, 0, 0, 0, 1, 0, 0, 1, 1, 1, 0, 0, 1, 0, 1, 0,\n",
       "       0, 1, 0, 0, 1, 1, 0, 1, 1, 0, 1, 1, 1, 1, 0, 1, 1, 1, 1, 1, 1, 1,\n",
       "       1, 1, 0, 1, 1, 1, 1, 0, 0, 1, 0, 1, 1, 0, 0, 1, 1, 0, 0, 1, 1, 1,\n",
       "       1, 0, 1, 1, 0, 0, 0, 1, 0, 1, 0, 1, 1, 1, 0, 1, 1, 0, 0, 1, 0, 0,\n",
       "       0, 0, 1, 0, 0, 0, 1, 0, 1, 0, 1, 1, 0, 1, 0, 0, 0, 0, 1, 1, 0, 0,\n",
       "       1, 1, 1, 0, 1, 1, 1, 1, 1, 0, 0, 1, 1, 0, 1, 1, 0, 0, 1, 0, 1, 1,\n",
       "       1, 1, 0, 1, 1, 1, 1, 1, 0, 1, 0, 0, 0, 0, 0, 0, 0, 0, 0, 0, 0, 0,\n",
       "       0, 0, 1, 1, 1, 1, 1, 1, 0, 1, 0, 1, 1, 0, 1, 1, 0, 1, 0, 0, 1, 1,\n",
       "       1, 1, 1, 1, 1, 1, 1, 1, 1, 1, 1, 0, 1, 1, 0, 1, 0, 1, 1, 1, 1, 1,\n",
       "       1, 1, 1, 1, 1, 1, 1, 1, 1, 0, 1, 1, 1, 0, 1, 0, 1, 1, 1, 1, 0, 0,\n",
       "       0, 1, 1, 1, 1, 0, 1, 0, 1, 0, 1, 1, 1, 0, 1, 1, 1, 1, 1, 1, 1, 0,\n",
       "       0, 0, 1, 1, 1, 1, 1, 1, 1, 1, 1, 1, 1, 0, 0, 1, 0, 0, 0, 1, 0, 0,\n",
       "       1, 1, 1, 1, 1, 0, 1, 1, 1, 1, 1, 0, 1, 1, 1, 0, 1, 1, 0, 0, 1, 1,\n",
       "       1, 1, 1, 1, 0, 1, 1, 1, 1, 1, 1, 1, 0, 1, 1, 1, 1, 1, 0, 1, 1, 0,\n",
       "       1, 1, 1, 1, 1, 1, 1, 1, 1, 1, 1, 1, 0, 1, 0, 0, 1, 0, 1, 1, 1, 1,\n",
       "       1, 0, 1, 1, 0, 1, 0, 1, 1, 0, 1, 0, 1, 1, 1, 1, 1, 1, 1, 1, 0, 0,\n",
       "       1, 1, 1, 1, 1, 1, 0, 1, 1, 1, 1, 1, 1, 1, 1, 1, 1, 0, 1, 1, 1, 1,\n",
       "       1, 1, 1, 0, 1, 0, 1, 1, 0, 1, 1, 1, 1, 1, 0, 0, 1, 0, 1, 0, 1, 1,\n",
       "       1, 1, 1, 0, 1, 1, 0, 1, 0, 1, 0, 0, 1, 1, 1, 0, 1, 1, 1, 1, 1, 1,\n",
       "       1, 1, 1, 1, 1, 0, 1, 0, 0, 1, 1, 1, 1, 1, 1, 1, 1, 1, 1, 1, 1, 1,\n",
       "       1, 1, 1, 1, 1, 1, 1, 1, 1, 1, 1, 1, 0, 0, 0, 0, 0, 0, 1])"
      ]
     },
     "execution_count": 7,
     "metadata": {
      "tags": []
     },
     "output_type": "execute_result"
    }
   ],
   "source": [
    "# 'targets'\n",
    "data.target\n",
    "# note how the targets are just 0s and 1s\n",
    "# normally, when you have K targets, they are labeled 0..K-1"
   ]
  },
  {
   "cell_type": "code",
   "execution_count": null,
   "metadata": {
    "colab": {
     "base_uri": "https://localhost:8080/",
     "height": 34
    },
    "id": "YFXPFIiB5Osq",
    "outputId": "18f16aab-6f97-4731-e644-3ec3c0a19375"
   },
   "outputs": [
    {
     "data": {
      "text/plain": [
       "array(['malignant', 'benign'], dtype='<U9')"
      ]
     },
     "execution_count": 8,
     "metadata": {
      "tags": []
     },
     "output_type": "execute_result"
    }
   ],
   "source": [
    "# their meaning is not lost\n",
    "data.target_names"
   ]
  },
  {
   "cell_type": "code",
   "execution_count": null,
   "metadata": {
    "colab": {
     "base_uri": "https://localhost:8080/",
     "height": 34
    },
    "id": "hujO3u7j5Qm-",
    "outputId": "af17b69f-b1d0-4996-9712-4034794d22f7"
   },
   "outputs": [
    {
     "data": {
      "text/plain": [
       "(569,)"
      ]
     },
     "execution_count": 9,
     "metadata": {
      "tags": []
     },
     "output_type": "execute_result"
    }
   ],
   "source": [
    "# there are also 569 corresponding targets\n",
    "data.target.shape"
   ]
  },
  {
   "cell_type": "code",
   "execution_count": null,
   "metadata": {
    "colab": {
     "base_uri": "https://localhost:8080/",
     "height": 187
    },
    "id": "q3o3h2l95SJ0",
    "outputId": "4fb3c9e3-6e01-43d4-8f72-2b0dba9dbcb0"
   },
   "outputs": [
    {
     "data": {
      "text/plain": [
       "array(['mean radius', 'mean texture', 'mean perimeter', 'mean area',\n",
       "       'mean smoothness', 'mean compactness', 'mean concavity',\n",
       "       'mean concave points', 'mean symmetry', 'mean fractal dimension',\n",
       "       'radius error', 'texture error', 'perimeter error', 'area error',\n",
       "       'smoothness error', 'compactness error', 'concavity error',\n",
       "       'concave points error', 'symmetry error',\n",
       "       'fractal dimension error', 'worst radius', 'worst texture',\n",
       "       'worst perimeter', 'worst area', 'worst smoothness',\n",
       "       'worst compactness', 'worst concavity', 'worst concave points',\n",
       "       'worst symmetry', 'worst fractal dimension'], dtype='<U23')"
      ]
     },
     "execution_count": 10,
     "metadata": {
      "tags": []
     },
     "output_type": "execute_result"
    }
   ],
   "source": [
    "# you can also determine the meaning of each feature\n",
    "data.feature_names"
   ]
  },
  {
   "cell_type": "code",
   "execution_count": null,
   "metadata": {
    "id": "__iUSucB5Tug"
   },
   "outputs": [],
   "source": [
    "# normally we would put all of our imports at the top\n",
    "# but this lets us tell a story\n",
    "from sklearn.model_selection import train_test_split\n",
    "\n",
    "\n",
    "# split the data into train and test sets\n",
    "# this lets us simulate how our model will perform in the future\n",
    "X_train, X_test, y_train, y_test = train_test_split(data.data, data.target, test_size=0.33)\n",
    "N, D = X_train.shape"
   ]
  },
  {
   "cell_type": "code",
   "execution_count": null,
   "metadata": {
    "id": "fS7cFmYl73H3"
   },
   "outputs": [],
   "source": [
    "# Scale the data\n",
    "# you'll learn why scaling is needed in a later course\n",
    "from sklearn.preprocessing import StandardScaler\n",
    "\n",
    "scaler = StandardScaler()\n",
    "X_train = scaler.fit_transform(X_train)\n",
    "X_test = scaler.transform(X_test)"
   ]
  },
  {
   "cell_type": "code",
   "execution_count": null,
   "metadata": {
    "colab": {
     "base_uri": "https://localhost:8080/",
     "height": 1000
    },
    "id": "y-llhgXY5bmX",
    "outputId": "611273af-0aaa-4e01-d196-9e098847b1c2"
   },
   "outputs": [
    {
     "name": "stdout",
     "output_type": "stream",
     "text": [
      "Epoch 1/100\n",
      "12/12 [==============================] - 0s 15ms/step - loss: 0.8609 - accuracy: 0.4698 - val_loss: 0.8084 - val_accuracy: 0.5213\n",
      "Epoch 2/100\n",
      "12/12 [==============================] - 0s 5ms/step - loss: 0.7827 - accuracy: 0.5223 - val_loss: 0.7401 - val_accuracy: 0.5904\n",
      "Epoch 3/100\n",
      "12/12 [==============================] - 0s 4ms/step - loss: 0.7130 - accuracy: 0.5696 - val_loss: 0.6800 - val_accuracy: 0.6383\n",
      "Epoch 4/100\n",
      "12/12 [==============================] - 0s 4ms/step - loss: 0.6531 - accuracy: 0.6404 - val_loss: 0.6275 - val_accuracy: 0.6755\n",
      "Epoch 5/100\n",
      "12/12 [==============================] - 0s 5ms/step - loss: 0.6000 - accuracy: 0.6903 - val_loss: 0.5826 - val_accuracy: 0.7128\n",
      "Epoch 6/100\n",
      "12/12 [==============================] - 0s 4ms/step - loss: 0.5545 - accuracy: 0.7244 - val_loss: 0.5436 - val_accuracy: 0.7553\n",
      "Epoch 7/100\n",
      "12/12 [==============================] - 0s 5ms/step - loss: 0.5138 - accuracy: 0.7638 - val_loss: 0.5107 - val_accuracy: 0.7766\n",
      "Epoch 8/100\n",
      "12/12 [==============================] - 0s 4ms/step - loss: 0.4782 - accuracy: 0.7874 - val_loss: 0.4826 - val_accuracy: 0.7819\n",
      "Epoch 9/100\n",
      "12/12 [==============================] - 0s 5ms/step - loss: 0.4476 - accuracy: 0.8110 - val_loss: 0.4579 - val_accuracy: 0.7979\n",
      "Epoch 10/100\n",
      "12/12 [==============================] - 0s 5ms/step - loss: 0.4204 - accuracy: 0.8399 - val_loss: 0.4360 - val_accuracy: 0.8085\n",
      "Epoch 11/100\n",
      "12/12 [==============================] - 0s 4ms/step - loss: 0.3959 - accuracy: 0.8556 - val_loss: 0.4169 - val_accuracy: 0.8298\n",
      "Epoch 12/100\n",
      "12/12 [==============================] - 0s 5ms/step - loss: 0.3743 - accuracy: 0.8793 - val_loss: 0.3996 - val_accuracy: 0.8351\n",
      "Epoch 13/100\n",
      "12/12 [==============================] - 0s 4ms/step - loss: 0.3544 - accuracy: 0.8845 - val_loss: 0.3845 - val_accuracy: 0.8511\n",
      "Epoch 14/100\n",
      "12/12 [==============================] - 0s 5ms/step - loss: 0.3370 - accuracy: 0.8871 - val_loss: 0.3705 - val_accuracy: 0.8564\n",
      "Epoch 15/100\n",
      "12/12 [==============================] - 0s 4ms/step - loss: 0.3217 - accuracy: 0.8976 - val_loss: 0.3578 - val_accuracy: 0.8617\n",
      "Epoch 16/100\n",
      "12/12 [==============================] - 0s 4ms/step - loss: 0.3069 - accuracy: 0.9029 - val_loss: 0.3459 - val_accuracy: 0.8617\n",
      "Epoch 17/100\n",
      "12/12 [==============================] - 0s 5ms/step - loss: 0.2936 - accuracy: 0.9029 - val_loss: 0.3354 - val_accuracy: 0.8723\n",
      "Epoch 18/100\n",
      "12/12 [==============================] - 0s 4ms/step - loss: 0.2822 - accuracy: 0.9055 - val_loss: 0.3254 - val_accuracy: 0.8777\n",
      "Epoch 19/100\n",
      "12/12 [==============================] - 0s 5ms/step - loss: 0.2713 - accuracy: 0.9134 - val_loss: 0.3164 - val_accuracy: 0.8777\n",
      "Epoch 20/100\n",
      "12/12 [==============================] - 0s 5ms/step - loss: 0.2615 - accuracy: 0.9160 - val_loss: 0.3081 - val_accuracy: 0.8883\n",
      "Epoch 21/100\n",
      "12/12 [==============================] - 0s 4ms/step - loss: 0.2524 - accuracy: 0.9160 - val_loss: 0.3004 - val_accuracy: 0.8936\n",
      "Epoch 22/100\n",
      "12/12 [==============================] - 0s 5ms/step - loss: 0.2442 - accuracy: 0.9213 - val_loss: 0.2930 - val_accuracy: 0.8936\n",
      "Epoch 23/100\n",
      "12/12 [==============================] - 0s 5ms/step - loss: 0.2364 - accuracy: 0.9291 - val_loss: 0.2866 - val_accuracy: 0.8936\n",
      "Epoch 24/100\n",
      "12/12 [==============================] - 0s 5ms/step - loss: 0.2295 - accuracy: 0.9318 - val_loss: 0.2802 - val_accuracy: 0.9043\n",
      "Epoch 25/100\n",
      "12/12 [==============================] - 0s 4ms/step - loss: 0.2227 - accuracy: 0.9370 - val_loss: 0.2744 - val_accuracy: 0.9096\n",
      "Epoch 26/100\n",
      "12/12 [==============================] - 0s 4ms/step - loss: 0.2167 - accuracy: 0.9423 - val_loss: 0.2689 - val_accuracy: 0.9149\n",
      "Epoch 27/100\n",
      "12/12 [==============================] - 0s 4ms/step - loss: 0.2110 - accuracy: 0.9423 - val_loss: 0.2635 - val_accuracy: 0.9202\n",
      "Epoch 28/100\n",
      "12/12 [==============================] - 0s 6ms/step - loss: 0.2055 - accuracy: 0.9449 - val_loss: 0.2586 - val_accuracy: 0.9202\n",
      "Epoch 29/100\n",
      "12/12 [==============================] - 0s 5ms/step - loss: 0.2005 - accuracy: 0.9449 - val_loss: 0.2540 - val_accuracy: 0.9202\n",
      "Epoch 30/100\n",
      "12/12 [==============================] - 0s 4ms/step - loss: 0.1958 - accuracy: 0.9449 - val_loss: 0.2494 - val_accuracy: 0.9255\n",
      "Epoch 31/100\n",
      "12/12 [==============================] - 0s 5ms/step - loss: 0.1913 - accuracy: 0.9449 - val_loss: 0.2455 - val_accuracy: 0.9255\n",
      "Epoch 32/100\n",
      "12/12 [==============================] - 0s 4ms/step - loss: 0.1870 - accuracy: 0.9501 - val_loss: 0.2414 - val_accuracy: 0.9255\n",
      "Epoch 33/100\n",
      "12/12 [==============================] - 0s 5ms/step - loss: 0.1829 - accuracy: 0.9528 - val_loss: 0.2374 - val_accuracy: 0.9255\n",
      "Epoch 34/100\n",
      "12/12 [==============================] - 0s 4ms/step - loss: 0.1790 - accuracy: 0.9554 - val_loss: 0.2341 - val_accuracy: 0.9255\n",
      "Epoch 35/100\n",
      "12/12 [==============================] - 0s 4ms/step - loss: 0.1754 - accuracy: 0.9554 - val_loss: 0.2306 - val_accuracy: 0.9309\n",
      "Epoch 36/100\n",
      "12/12 [==============================] - 0s 4ms/step - loss: 0.1719 - accuracy: 0.9554 - val_loss: 0.2274 - val_accuracy: 0.9309\n",
      "Epoch 37/100\n",
      "12/12 [==============================] - 0s 5ms/step - loss: 0.1686 - accuracy: 0.9554 - val_loss: 0.2243 - val_accuracy: 0.9255\n",
      "Epoch 38/100\n",
      "12/12 [==============================] - 0s 5ms/step - loss: 0.1655 - accuracy: 0.9554 - val_loss: 0.2213 - val_accuracy: 0.9255\n",
      "Epoch 39/100\n",
      "12/12 [==============================] - 0s 5ms/step - loss: 0.1624 - accuracy: 0.9580 - val_loss: 0.2186 - val_accuracy: 0.9309\n",
      "Epoch 40/100\n",
      "12/12 [==============================] - 0s 5ms/step - loss: 0.1596 - accuracy: 0.9580 - val_loss: 0.2157 - val_accuracy: 0.9309\n",
      "Epoch 41/100\n",
      "12/12 [==============================] - 0s 4ms/step - loss: 0.1568 - accuracy: 0.9580 - val_loss: 0.2132 - val_accuracy: 0.9309\n",
      "Epoch 42/100\n",
      "12/12 [==============================] - 0s 4ms/step - loss: 0.1541 - accuracy: 0.9580 - val_loss: 0.2107 - val_accuracy: 0.9309\n",
      "Epoch 43/100\n",
      "12/12 [==============================] - 0s 4ms/step - loss: 0.1516 - accuracy: 0.9580 - val_loss: 0.2082 - val_accuracy: 0.9309\n",
      "Epoch 44/100\n",
      "12/12 [==============================] - 0s 5ms/step - loss: 0.1492 - accuracy: 0.9580 - val_loss: 0.2060 - val_accuracy: 0.9309\n",
      "Epoch 45/100\n",
      "12/12 [==============================] - 0s 5ms/step - loss: 0.1468 - accuracy: 0.9580 - val_loss: 0.2038 - val_accuracy: 0.9309\n",
      "Epoch 46/100\n",
      "12/12 [==============================] - 0s 4ms/step - loss: 0.1446 - accuracy: 0.9580 - val_loss: 0.2019 - val_accuracy: 0.9309\n",
      "Epoch 47/100\n",
      "12/12 [==============================] - 0s 5ms/step - loss: 0.1425 - accuracy: 0.9580 - val_loss: 0.1995 - val_accuracy: 0.9309\n",
      "Epoch 48/100\n",
      "12/12 [==============================] - 0s 4ms/step - loss: 0.1403 - accuracy: 0.9606 - val_loss: 0.1977 - val_accuracy: 0.9309\n",
      "Epoch 49/100\n",
      "12/12 [==============================] - 0s 4ms/step - loss: 0.1383 - accuracy: 0.9633 - val_loss: 0.1957 - val_accuracy: 0.9362\n",
      "Epoch 50/100\n",
      "12/12 [==============================] - 0s 4ms/step - loss: 0.1363 - accuracy: 0.9659 - val_loss: 0.1939 - val_accuracy: 0.9362\n",
      "Epoch 51/100\n",
      "12/12 [==============================] - 0s 4ms/step - loss: 0.1345 - accuracy: 0.9659 - val_loss: 0.1922 - val_accuracy: 0.9415\n",
      "Epoch 52/100\n",
      "12/12 [==============================] - 0s 4ms/step - loss: 0.1327 - accuracy: 0.9685 - val_loss: 0.1903 - val_accuracy: 0.9415\n",
      "Epoch 53/100\n",
      "12/12 [==============================] - 0s 4ms/step - loss: 0.1309 - accuracy: 0.9685 - val_loss: 0.1888 - val_accuracy: 0.9415\n",
      "Epoch 54/100\n",
      "12/12 [==============================] - 0s 5ms/step - loss: 0.1292 - accuracy: 0.9685 - val_loss: 0.1872 - val_accuracy: 0.9415\n",
      "Epoch 55/100\n",
      "12/12 [==============================] - 0s 5ms/step - loss: 0.1276 - accuracy: 0.9685 - val_loss: 0.1857 - val_accuracy: 0.9415\n",
      "Epoch 56/100\n",
      "12/12 [==============================] - 0s 5ms/step - loss: 0.1260 - accuracy: 0.9685 - val_loss: 0.1841 - val_accuracy: 0.9415\n",
      "Epoch 57/100\n",
      "12/12 [==============================] - 0s 5ms/step - loss: 0.1245 - accuracy: 0.9685 - val_loss: 0.1827 - val_accuracy: 0.9415\n",
      "Epoch 58/100\n",
      "12/12 [==============================] - 0s 4ms/step - loss: 0.1230 - accuracy: 0.9685 - val_loss: 0.1813 - val_accuracy: 0.9415\n",
      "Epoch 59/100\n",
      "12/12 [==============================] - 0s 4ms/step - loss: 0.1216 - accuracy: 0.9685 - val_loss: 0.1799 - val_accuracy: 0.9415\n",
      "Epoch 60/100\n",
      "12/12 [==============================] - 0s 4ms/step - loss: 0.1202 - accuracy: 0.9685 - val_loss: 0.1788 - val_accuracy: 0.9415\n",
      "Epoch 61/100\n",
      "12/12 [==============================] - 0s 5ms/step - loss: 0.1188 - accuracy: 0.9685 - val_loss: 0.1775 - val_accuracy: 0.9415\n",
      "Epoch 62/100\n",
      "12/12 [==============================] - 0s 5ms/step - loss: 0.1176 - accuracy: 0.9685 - val_loss: 0.1762 - val_accuracy: 0.9415\n",
      "Epoch 63/100\n",
      "12/12 [==============================] - 0s 4ms/step - loss: 0.1163 - accuracy: 0.9685 - val_loss: 0.1750 - val_accuracy: 0.9415\n",
      "Epoch 64/100\n",
      "12/12 [==============================] - 0s 5ms/step - loss: 0.1150 - accuracy: 0.9685 - val_loss: 0.1738 - val_accuracy: 0.9468\n",
      "Epoch 65/100\n",
      "12/12 [==============================] - 0s 5ms/step - loss: 0.1138 - accuracy: 0.9685 - val_loss: 0.1728 - val_accuracy: 0.9468\n",
      "Epoch 66/100\n",
      "12/12 [==============================] - 0s 4ms/step - loss: 0.1126 - accuracy: 0.9685 - val_loss: 0.1717 - val_accuracy: 0.9468\n",
      "Epoch 67/100\n",
      "12/12 [==============================] - 0s 4ms/step - loss: 0.1115 - accuracy: 0.9685 - val_loss: 0.1707 - val_accuracy: 0.9468\n",
      "Epoch 68/100\n",
      "12/12 [==============================] - 0s 5ms/step - loss: 0.1104 - accuracy: 0.9685 - val_loss: 0.1696 - val_accuracy: 0.9521\n",
      "Epoch 69/100\n",
      "12/12 [==============================] - 0s 4ms/step - loss: 0.1093 - accuracy: 0.9738 - val_loss: 0.1687 - val_accuracy: 0.9521\n",
      "Epoch 70/100\n",
      "12/12 [==============================] - 0s 5ms/step - loss: 0.1083 - accuracy: 0.9738 - val_loss: 0.1677 - val_accuracy: 0.9521\n",
      "Epoch 71/100\n",
      "12/12 [==============================] - 0s 4ms/step - loss: 0.1073 - accuracy: 0.9738 - val_loss: 0.1668 - val_accuracy: 0.9521\n",
      "Epoch 72/100\n",
      "12/12 [==============================] - 0s 5ms/step - loss: 0.1062 - accuracy: 0.9764 - val_loss: 0.1658 - val_accuracy: 0.9521\n",
      "Epoch 73/100\n",
      "12/12 [==============================] - 0s 5ms/step - loss: 0.1053 - accuracy: 0.9764 - val_loss: 0.1650 - val_accuracy: 0.9521\n",
      "Epoch 74/100\n",
      "12/12 [==============================] - 0s 4ms/step - loss: 0.1043 - accuracy: 0.9764 - val_loss: 0.1641 - val_accuracy: 0.9521\n",
      "Epoch 75/100\n",
      "12/12 [==============================] - 0s 5ms/step - loss: 0.1034 - accuracy: 0.9764 - val_loss: 0.1632 - val_accuracy: 0.9574\n",
      "Epoch 76/100\n",
      "12/12 [==============================] - 0s 4ms/step - loss: 0.1025 - accuracy: 0.9764 - val_loss: 0.1624 - val_accuracy: 0.9574\n",
      "Epoch 77/100\n",
      "12/12 [==============================] - 0s 5ms/step - loss: 0.1017 - accuracy: 0.9790 - val_loss: 0.1615 - val_accuracy: 0.9574\n",
      "Epoch 78/100\n",
      "12/12 [==============================] - 0s 5ms/step - loss: 0.1008 - accuracy: 0.9790 - val_loss: 0.1607 - val_accuracy: 0.9574\n",
      "Epoch 79/100\n",
      "12/12 [==============================] - 0s 5ms/step - loss: 0.1000 - accuracy: 0.9790 - val_loss: 0.1601 - val_accuracy: 0.9574\n",
      "Epoch 80/100\n",
      "12/12 [==============================] - 0s 4ms/step - loss: 0.0991 - accuracy: 0.9790 - val_loss: 0.1593 - val_accuracy: 0.9574\n",
      "Epoch 81/100\n",
      "12/12 [==============================] - 0s 4ms/step - loss: 0.0983 - accuracy: 0.9790 - val_loss: 0.1586 - val_accuracy: 0.9574\n",
      "Epoch 82/100\n",
      "12/12 [==============================] - 0s 4ms/step - loss: 0.0976 - accuracy: 0.9790 - val_loss: 0.1578 - val_accuracy: 0.9628\n",
      "Epoch 83/100\n",
      "12/12 [==============================] - 0s 4ms/step - loss: 0.0968 - accuracy: 0.9790 - val_loss: 0.1572 - val_accuracy: 0.9628\n",
      "Epoch 84/100\n",
      "12/12 [==============================] - 0s 5ms/step - loss: 0.0960 - accuracy: 0.9790 - val_loss: 0.1565 - val_accuracy: 0.9628\n",
      "Epoch 85/100\n",
      "12/12 [==============================] - 0s 4ms/step - loss: 0.0953 - accuracy: 0.9790 - val_loss: 0.1559 - val_accuracy: 0.9628\n",
      "Epoch 86/100\n",
      "12/12 [==============================] - 0s 5ms/step - loss: 0.0946 - accuracy: 0.9790 - val_loss: 0.1553 - val_accuracy: 0.9628\n",
      "Epoch 87/100\n",
      "12/12 [==============================] - 0s 4ms/step - loss: 0.0939 - accuracy: 0.9790 - val_loss: 0.1546 - val_accuracy: 0.9628\n",
      "Epoch 88/100\n",
      "12/12 [==============================] - 0s 5ms/step - loss: 0.0932 - accuracy: 0.9790 - val_loss: 0.1539 - val_accuracy: 0.9628\n",
      "Epoch 89/100\n",
      "12/12 [==============================] - 0s 5ms/step - loss: 0.0925 - accuracy: 0.9790 - val_loss: 0.1533 - val_accuracy: 0.9628\n",
      "Epoch 90/100\n",
      "12/12 [==============================] - 0s 5ms/step - loss: 0.0919 - accuracy: 0.9790 - val_loss: 0.1528 - val_accuracy: 0.9628\n",
      "Epoch 91/100\n",
      "12/12 [==============================] - 0s 4ms/step - loss: 0.0912 - accuracy: 0.9790 - val_loss: 0.1522 - val_accuracy: 0.9628\n",
      "Epoch 92/100\n",
      "12/12 [==============================] - 0s 5ms/step - loss: 0.0906 - accuracy: 0.9790 - val_loss: 0.1516 - val_accuracy: 0.9628\n",
      "Epoch 93/100\n",
      "12/12 [==============================] - 0s 5ms/step - loss: 0.0900 - accuracy: 0.9790 - val_loss: 0.1511 - val_accuracy: 0.9628\n",
      "Epoch 94/100\n",
      "12/12 [==============================] - 0s 5ms/step - loss: 0.0894 - accuracy: 0.9790 - val_loss: 0.1504 - val_accuracy: 0.9628\n",
      "Epoch 95/100\n",
      "12/12 [==============================] - 0s 5ms/step - loss: 0.0888 - accuracy: 0.9790 - val_loss: 0.1500 - val_accuracy: 0.9628\n",
      "Epoch 96/100\n",
      "12/12 [==============================] - 0s 5ms/step - loss: 0.0882 - accuracy: 0.9790 - val_loss: 0.1494 - val_accuracy: 0.9628\n",
      "Epoch 97/100\n",
      "12/12 [==============================] - 0s 4ms/step - loss: 0.0876 - accuracy: 0.9790 - val_loss: 0.1489 - val_accuracy: 0.9628\n",
      "Epoch 98/100\n",
      "12/12 [==============================] - 0s 5ms/step - loss: 0.0870 - accuracy: 0.9790 - val_loss: 0.1486 - val_accuracy: 0.9628\n",
      "Epoch 99/100\n",
      "12/12 [==============================] - 0s 4ms/step - loss: 0.0865 - accuracy: 0.9790 - val_loss: 0.1481 - val_accuracy: 0.9628\n",
      "Epoch 100/100\n",
      "12/12 [==============================] - 0s 5ms/step - loss: 0.0860 - accuracy: 0.9790 - val_loss: 0.1475 - val_accuracy: 0.9628\n",
      "12/12 [==============================] - 0s 1ms/step - loss: 0.0856 - accuracy: 0.9790\n",
      "Train score: [0.08562987297773361, 0.9790025949478149]\n",
      "6/6 [==============================] - 0s 2ms/step - loss: 0.1475 - accuracy: 0.9628\n",
      "Test score: [0.14749325811862946, 0.9627659320831299]\n"
     ]
    }
   ],
   "source": [
    "# Now all the fun Tensorflow stuff\n",
    "# Build the model\n",
    "\n",
    "model = tf.keras.models.Sequential([\n",
    "  tf.keras.layers.Input(shape=(D,)),\n",
    "  tf.keras.layers.Dense(1, activation='sigmoid')\n",
    "])\n",
    "\n",
    "# Alternatively, you can do:\n",
    "# model = tf.keras.models.Sequential()\n",
    "# model.add(tf.keras.layers.Dense(1, input_shape=(D,), activation='sigmoid'))\n",
    "\n",
    "model.compile(optimizer='adam',\n",
    "              loss='binary_crossentropy',\n",
    "              metrics=['accuracy'])\n",
    "\n",
    "\n",
    "# Train the model\n",
    "r = model.fit(X_train, y_train, validation_data=(X_test, y_test), epochs=100)\n",
    "\n",
    "\n",
    "# Evaluate the model - evaluate() returns loss and accuracy\n",
    "print(\"Train score:\", model.evaluate(X_train, y_train))\n",
    "print(\"Test score:\", model.evaluate(X_test, y_test))"
   ]
  },
  {
   "cell_type": "code",
   "execution_count": null,
   "metadata": {
    "colab": {
     "base_uri": "https://localhost:8080/",
     "height": 282
    },
    "id": "W0fK5PQc8aJ_",
    "outputId": "952299b6-1cdc-4c3b-fc32-6d85aee14db2"
   },
   "outputs": [
    {
     "data": {
      "text/plain": [
       "<matplotlib.legend.Legend at 0x7f97b16df828>"
      ]
     },
     "execution_count": 14,
     "metadata": {
      "tags": []
     },
     "output_type": "execute_result"
    },
    {
     "data": {
      "image/png": "[encoded data removed]",
      "text/plain": [
       "<Figure size 432x288 with 1 Axes>"
      ]
     },
     "metadata": {
      "needs_background": "light",
      "tags": []
     },
     "output_type": "display_data"
    }
   ],
   "source": [
    "# Plot what's returned by model.fit()\n",
    "import matplotlib.pyplot as plt\n",
    "plt.plot(r.history['loss'], label='loss')\n",
    "plt.plot(r.history['val_loss'], label='val_loss')\n",
    "plt.legend()"
   ]
  },
  {
   "cell_type": "code",
   "execution_count": null,
   "metadata": {
    "colab": {
     "base_uri": "https://localhost:8080/",
     "height": 285
    },
    "id": "VBAA2UY28vJN",
    "outputId": "b5908402-b0ba-4db7-e691-44294933dd19"
   },
   "outputs": [
    {
     "data": {
      "text/plain": [
       "<matplotlib.legend.Legend at 0x7f97afd57908>"
      ]
     },
     "execution_count": 15,
     "metadata": {
      "tags": []
     },
     "output_type": "execute_result"
    },
    {
     "data": {
      "image/png": "[encoded data removed]",
      "text/plain": [
       "<Figure size 432x288 with 1 Axes>"
      ]
     },
     "metadata": {
      "needs_background": "light",
      "tags": []
     },
     "output_type": "display_data"
    }
   ],
   "source": [
    "# Plot the accuracy too\n",
    "plt.plot(r.history['accuracy'], label='acc')\n",
    "plt.plot(r.history['val_accuracy'], label='val_acc')\n",
    "plt.legend()"
   ]
  },
  {
   "cell_type": "markdown",
   "metadata": {
    "id": "GrZnHBI8NH-u"
   },
   "source": [
    "# Part 2: Making Predictions\n",
    "\n",
    "This goes with the lecture \"Making Predictions\""
   ]
  },
  {
   "cell_type": "code",
   "execution_count": null,
   "metadata": {
    "colab": {
     "base_uri": "https://localhost:8080/",
     "height": 1000
    },
    "id": "Ss1LJwIVKREf",
    "outputId": "6d017cc8-157a-45b1-e672-c600e68d5483"
   },
   "outputs": [
    {
     "name": "stdout",
     "output_type": "stream",
     "text": [
      "[[3.86378058e-04]\n",
      " [9.84780431e-01]\n",
      " [8.10497477e-06]\n",
      " [9.67254221e-01]\n",
      " [9.75205123e-01]\n",
      " [1.03592151e-06]\n",
      " [7.36993432e-01]\n",
      " [9.74341214e-01]\n",
      " [2.01676026e-01]\n",
      " [7.63189942e-02]\n",
      " [9.07921493e-01]\n",
      " [9.98336017e-01]\n",
      " [9.91316557e-01]\n",
      " [1.49583220e-02]\n",
      " [2.73370892e-01]\n",
      " [9.63929355e-01]\n",
      " [4.18202132e-01]\n",
      " [5.22907972e-01]\n",
      " [9.72203434e-01]\n",
      " [9.43208098e-01]\n",
      " [9.01003957e-01]\n",
      " [7.98124552e-01]\n",
      " [9.55958247e-01]\n",
      " [6.44394546e-04]\n",
      " [5.47593057e-01]\n",
      " [9.44584012e-01]\n",
      " [9.39119279e-01]\n",
      " [8.86917651e-01]\n",
      " [9.99867797e-01]\n",
      " [9.96247470e-01]\n",
      " [9.01305000e-04]\n",
      " [9.86370981e-01]\n",
      " [9.90954220e-01]\n",
      " [9.78590846e-01]\n",
      " [2.98584223e-01]\n",
      " [9.74971592e-01]\n",
      " [2.24541244e-03]\n",
      " [7.43708992e-03]\n",
      " [1.08735815e-01]\n",
      " [9.70864236e-01]\n",
      " [9.97598588e-01]\n",
      " [9.95253563e-01]\n",
      " [6.66293949e-02]\n",
      " [9.99299169e-01]\n",
      " [2.64693741e-02]\n",
      " [3.46294008e-02]\n",
      " [6.97628781e-02]\n",
      " [5.90775162e-04]\n",
      " [1.68447688e-01]\n",
      " [4.17051703e-01]\n",
      " [8.28669071e-01]\n",
      " [9.91819620e-01]\n",
      " [9.86989319e-01]\n",
      " [9.12003045e-04]\n",
      " [1.78345054e-01]\n",
      " [9.91083503e-01]\n",
      " [7.01007573e-03]\n",
      " [2.41460242e-07]\n",
      " [1.43330127e-01]\n",
      " [4.55556874e-05]\n",
      " [9.81389105e-01]\n",
      " [8.74749124e-01]\n",
      " [9.24449384e-01]\n",
      " [9.51820910e-01]\n",
      " [9.89835441e-01]\n",
      " [9.40594554e-01]\n",
      " [1.48434803e-01]\n",
      " [9.88991499e-01]\n",
      " [9.99458015e-01]\n",
      " [9.85807061e-01]\n",
      " [9.91644800e-01]\n",
      " [9.57303226e-01]\n",
      " [9.97576058e-01]\n",
      " [9.24584508e-01]\n",
      " [9.49344873e-01]\n",
      " [9.66827691e-01]\n",
      " [9.94582117e-01]\n",
      " [9.98655438e-01]\n",
      " [1.65901758e-06]\n",
      " [9.99411941e-01]\n",
      " [2.30099795e-06]\n",
      " [8.93940866e-01]\n",
      " [8.20179224e-01]\n",
      " [9.96064723e-01]\n",
      " [7.76759675e-03]\n",
      " [2.04935772e-04]\n",
      " [2.47613713e-01]\n",
      " [9.78444517e-01]\n",
      " [1.19358050e-02]\n",
      " [9.96814549e-01]\n",
      " [2.86849365e-02]\n",
      " [9.98123467e-01]\n",
      " [9.92729127e-01]\n",
      " [9.02851462e-01]\n",
      " [9.95400250e-01]\n",
      " [9.67106462e-01]\n",
      " [8.26600716e-02]\n",
      " [9.92462158e-01]\n",
      " [9.84530568e-01]\n",
      " [1.05292011e-05]\n",
      " [8.87999892e-01]\n",
      " [1.94387667e-05]\n",
      " [9.97542977e-01]\n",
      " [9.72390294e-01]\n",
      " [9.85767126e-01]\n",
      " [7.85340488e-01]\n",
      " [6.10192299e-01]\n",
      " [9.65034664e-01]\n",
      " [3.99673767e-02]\n",
      " [9.67306435e-01]\n",
      " [8.84589493e-01]\n",
      " [9.02074575e-01]\n",
      " [3.98189098e-01]\n",
      " [9.99246955e-01]\n",
      " [8.53020966e-01]\n",
      " [2.39426382e-02]\n",
      " [3.30956355e-02]\n",
      " [9.87658203e-01]\n",
      " [9.93813396e-01]\n",
      " [9.92372811e-01]\n",
      " [6.59648001e-01]\n",
      " [1.52575020e-02]\n",
      " [8.56655359e-04]\n",
      " [9.81236696e-01]\n",
      " [8.38881969e-01]\n",
      " [3.22945329e-04]\n",
      " [9.75976408e-01]\n",
      " [3.42319865e-04]\n",
      " [9.97464538e-01]\n",
      " [3.05744916e-01]\n",
      " [7.02146068e-02]\n",
      " [9.43387687e-01]\n",
      " [9.98602211e-01]\n",
      " [4.21485252e-04]\n",
      " [4.34686430e-02]\n",
      " [9.97005880e-01]\n",
      " [5.49177110e-01]\n",
      " [1.51920943e-02]\n",
      " [7.39880800e-01]\n",
      " [9.95039642e-01]\n",
      " [1.27456868e-02]\n",
      " [9.82785881e-01]\n",
      " [8.21013782e-06]\n",
      " [9.18114245e-01]\n",
      " [9.12319779e-01]\n",
      " [2.13819161e-01]\n",
      " [4.20795023e-01]\n",
      " [7.56392002e-01]\n",
      " [5.75207267e-03]\n",
      " [6.93836570e-01]\n",
      " [9.95563984e-01]\n",
      " [9.90276217e-01]\n",
      " [9.98211980e-01]\n",
      " [9.72716749e-01]\n",
      " [9.98421311e-01]\n",
      " [8.68965745e-01]\n",
      " [3.26108411e-02]\n",
      " [9.82722759e-01]\n",
      " [9.97514963e-01]\n",
      " [9.97721136e-01]\n",
      " [7.51649439e-01]\n",
      " [6.21980190e-01]\n",
      " [9.13870573e-01]\n",
      " [9.86600816e-01]\n",
      " [9.80454147e-01]\n",
      " [9.97537494e-01]\n",
      " [6.38170242e-02]\n",
      " [5.64098001e-01]\n",
      " [9.37707663e-01]\n",
      " [9.99191940e-01]\n",
      " [1.27754986e-01]\n",
      " [9.79737759e-01]\n",
      " [9.73214984e-01]\n",
      " [8.08745086e-01]\n",
      " [2.13803322e-10]\n",
      " [9.85395610e-01]\n",
      " [9.96816814e-01]\n",
      " [7.70437479e-01]\n",
      " [9.99257147e-01]\n",
      " [9.94040430e-01]\n",
      " [1.26547611e-03]\n",
      " [3.48072406e-03]\n",
      " [8.29080164e-01]\n",
      " [8.82580280e-01]\n",
      " [9.84677672e-01]\n",
      " [1.66605075e-03]\n",
      " [9.40553248e-01]\n",
      " [8.90425436e-05]]\n"
     ]
    }
   ],
   "source": [
    "# Make predictions\n",
    "P = model.predict(X_test)\n",
    "print(P) # they are outputs of the sigmoid, interpreted as probabilities p(y = 1 | x)"
   ]
  },
  {
   "cell_type": "code",
   "execution_count": null,
   "metadata": {
    "colab": {
     "base_uri": "https://localhost:8080/",
     "height": 153
    },
    "id": "Tv0cN7J6KoVu",
    "outputId": "3bd7dae1-ac93-437c-ddcd-e51335aa3568"
   },
   "outputs": [
    {
     "name": "stdout",
     "output_type": "stream",
     "text": [
      "[0. 1. 0. 1. 1. 0. 1. 1. 0. 0. 1. 1. 1. 0. 0. 1. 0. 1. 1. 1. 1. 1. 1. 0.\n",
      " 1. 1. 1. 1. 1. 1. 0. 1. 1. 1. 0. 1. 0. 0. 0. 1. 1. 1. 0. 1. 0. 0. 0. 0.\n",
      " 0. 0. 1. 1. 1. 0. 0. 1. 0. 0. 0. 0. 1. 1. 1. 1. 1. 1. 0. 1. 1. 1. 1. 1.\n",
      " 1. 1. 1. 1. 1. 1. 0. 1. 0. 1. 1. 1. 0. 0. 0. 1. 0. 1. 0. 1. 1. 1. 1. 1.\n",
      " 0. 1. 1. 0. 1. 0. 1. 1. 1. 1. 1. 1. 0. 1. 1. 1. 0. 1. 1. 0. 0. 1. 1. 1.\n",
      " 1. 0. 0. 1. 1. 0. 1. 0. 1. 0. 0. 1. 1. 0. 0. 1. 1. 0. 1. 1. 0. 1. 0. 1.\n",
      " 1. 0. 0. 1. 0. 1. 1. 1. 1. 1. 1. 1. 0. 1. 1. 1. 1. 1. 1. 1. 1. 1. 0. 1.\n",
      " 1. 1. 0. 1. 1. 1. 0. 1. 1. 1. 1. 1. 0. 0. 1. 1. 1. 0. 1. 0.]\n"
     ]
    }
   ],
   "source": [
    "# Round to get the actual predictions\n",
    "# Note: has to be flattened since the targets are size (N,) while the predictions are size (N,1)\n",
    "import numpy as np\n",
    "P = np.round(P).flatten()\n",
    "print(P)"
   ]
  },
  {
   "cell_type": "code",
   "execution_count": null,
   "metadata": {
    "colab": {
     "base_uri": "https://localhost:8080/",
     "height": 68
    },
    "id": "yJU09XkmK4nQ",
    "outputId": "c5bffa25-6179-412a-b7e9-fdac287f721d"
   },
   "outputs": [
    {
     "name": "stdout",
     "output_type": "stream",
     "text": [
      "Manually calculated accuracy: 0.9627659574468085\n",
      "6/6 [==============================] - 0s 2ms/step - loss: 0.1475 - accuracy: 0.9628\n",
      "Evaluate output: [0.14749325811862946, 0.9627659320831299]\n"
     ]
    }
   ],
   "source": [
    "# Calculate the accuracy, compare it to evaluate() output\n",
    "print(\"Manually calculated accuracy:\", np.mean(P == y_test))\n",
    "print(\"Evaluate output:\", model.evaluate(X_test, y_test))"
   ]
  },
  {
   "cell_type": "markdown",
   "metadata": {
    "id": "iogYs0uGNS4l"
   },
   "source": [
    "# Part 3: Saving and Loading a Model\n",
    "\n",
    "This goes with the lecture \"Saving and Loading a Model\""
   ]
  },
  {
   "cell_type": "code",
   "execution_count": null,
   "metadata": {
    "id": "L1uHxJ2SNXan"
   },
   "outputs": [],
   "source": [
    "# Let's now save our model to a file\n",
    "model.save('linearclassifier.h5')"
   ]
  },
  {
   "cell_type": "code",
   "execution_count": null,
   "metadata": {
    "colab": {
     "base_uri": "https://localhost:8080/",
     "height": 68
    },
    "id": "F6PHmjb0OFBf",
    "outputId": "291152cf-4980-414f-c320-add1c914059d"
   },
   "outputs": [
    {
     "name": "stdout",
     "output_type": "stream",
     "text": [
      "total 24K\n",
      "-rw-r--r-- 1 root root  19K Jun 18 16:13 linearclassifier.h5\n",
      "drwxr-xr-x 1 root root 4.0K Jun 17 16:18 sample_data\n"
     ]
    }
   ],
   "source": [
    "# Check that the model file exists\n",
    "!ls -lh "
   ]
  },
  {
   "cell_type": "code",
   "execution_count": null,
   "metadata": {
    "colab": {
     "base_uri": "https://localhost:8080/",
     "height": 68
    },
    "id": "FgFBrBveNoOR",
    "outputId": "9b295d15-0678-4b2d-8021-d3f89434b9ee"
   },
   "outputs": [
    {
     "name": "stdout",
     "output_type": "stream",
     "text": [
      "[<tensorflow.python.keras.layers.core.Dense object at 0x7f97afe4a4a8>]\n",
      "6/6 [==============================] - 0s 3ms/step - loss: 0.1475 - accuracy: 0.9628\n"
     ]
    },
    {
     "data": {
      "text/plain": [
       "[0.14749325811862946, 0.9627659320831299]"
      ]
     },
     "execution_count": 21,
     "metadata": {
      "tags": []
     },
     "output_type": "execute_result"
    }
   ],
   "source": [
    "# Let's load the model and confirm that it still works\n",
    "# Note: there is a bug in Keras where load/save only works if you DON'T use the Input() layer explicitly\n",
    "# So, make sure you define the model with ONLY Dense(1, input_shape=(D,))\n",
    "# At least, until the bug is fixed\n",
    "# https://github.com/keras-team/keras/issues/10417\n",
    "model = tf.keras.models.load_model('linearclassifier.h5')\n",
    "print(model.layers)\n",
    "model.evaluate(X_test, y_test)"
   ]
  },
  {
   "cell_type": "code",
   "execution_count": null,
   "metadata": {
    "id": "_8rGQI-Rpo2T"
   },
   "outputs": [],
   "source": [
    "\n",
    "# Download the file - requires Chrome (at this point)\n",
    "from google.colab import files\n",
    "files.download('linearclassifier.h5')"
   ]
  }
 ],
 "metadata": {
  "accelerator": "GPU",
  "colab": {
   "collapsed_sections": [],
   "name": "TF2.0 Linear Classification.ipynb",
   "provenance": [],
   "toc_visible": true
  },
  "kernelspec": {
   "display_name": "Tensorflow",
   "language": "python",
   "name": "tensorflow"
  },
  "language_info": {
   "codemirror_mode": {
    "name": "ipython",
    "version": 3
   },
   "file_extension": ".py",
   "mimetype": "text/x-python",
   "name": "python",
   "nbconvert_exporter": "python",
   "pygments_lexer": "ipython3",
   "version": "3.9.4"
  }
 },
 "nbformat": 4,
 "nbformat_minor": 1
}
