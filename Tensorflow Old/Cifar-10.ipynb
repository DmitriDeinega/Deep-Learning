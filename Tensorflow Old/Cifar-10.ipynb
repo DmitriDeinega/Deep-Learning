{
 "cells": [
  {
   "cell_type": "code",
   "execution_count": 1,
   "id": "451fa87d",
   "metadata": {},
   "outputs": [
    {
     "name": "stdout",
     "output_type": "stream",
     "text": [
      "INFO:tensorflow:Enabling eager execution\n",
      "INFO:tensorflow:Enabling v2 tensorshape\n",
      "INFO:tensorflow:Enabling resource variables\n",
      "INFO:tensorflow:Enabling tensor equality\n",
      "INFO:tensorflow:Enabling control flow v2\n"
     ]
    }
   ],
   "source": [
    "import tensorflow as tf\n",
    "import numpy as np"
   ]
  },
  {
   "cell_type": "code",
   "execution_count": 9,
   "id": "51dccbb7",
   "metadata": {},
   "outputs": [],
   "source": [
    "(x_train, y_train), (x_test, y_test) = tf.keras.datasets.cifar10.load_data()"
   ]
  },
  {
   "cell_type": "code",
   "execution_count": 10,
   "id": "599bffb4",
   "metadata": {},
   "outputs": [],
   "source": [
    "x_train, x_test = x_train/255, x_test/255\n",
    "y_train, y_test = y_train.flatten(), y_test.flatten()"
   ]
  },
  {
   "cell_type": "code",
   "execution_count": 5,
   "id": "183456d4",
   "metadata": {},
   "outputs": [],
   "source": [
    "#x_train = np.expand_dims(x_train, -1)\n",
    "#x_test = np.expand_dims(x_test, -1)"
   ]
  },
  {
   "cell_type": "code",
   "execution_count": 11,
   "id": "7d896113",
   "metadata": {},
   "outputs": [],
   "source": [
    "k = len(set(y_train))"
   ]
  },
  {
   "cell_type": "code",
   "execution_count": 12,
   "id": "f65d43d0",
   "metadata": {},
   "outputs": [],
   "source": [
    "model = tf.keras.models.Sequential()\n",
    "model.add(tf.keras.layers.InputLayer(input_shape=x_train[0].shape))\n",
    "model.add(tf.keras.layers.Conv2D(32, (3,3), strides=2, activation='relu'))\n",
    "model.add(tf.keras.layers.Conv2D(64, (3,3), strides=2, activation='relu'))\n",
    "model.add(tf.keras.layers.Conv2D(128, (3,3), strides=2, activation='relu'))\n",
    "model.add(tf.keras.layers.Flatten())\n",
    "model.add(tf.keras.layers.Dropout(0.2))\n",
    "model.add(tf.keras.layers.Dense(1024, activation='relu'))\n",
    "model.add(tf.keras.layers.Dropout(0.2))\n",
    "model.add(tf.keras.layers.Dense(k, activation='softmax'))"
   ]
  },
  {
   "cell_type": "code",
   "execution_count": 13,
   "id": "f51a7282",
   "metadata": {},
   "outputs": [],
   "source": [
    "model.compile(optimizer='adam', loss='sparse_categorical_crossentropy', metrics=['accuracy'])"
   ]
  },
  {
   "cell_type": "code",
   "execution_count": 15,
   "id": "519c54ea",
   "metadata": {},
   "outputs": [
    {
     "name": "stdout",
     "output_type": "stream",
     "text": [
      "Epoch 1/100\n",
      "1563/1563 [==============================] - 57s 37ms/step - loss: 1.4639 - accuracy: 0.4689 - val_loss: 1.2499 - val_accuracy: 0.5501\n",
      "Epoch 2/100\n",
      "1563/1563 [==============================] - 65s 42ms/step - loss: 1.1818 - accuracy: 0.5772 - val_loss: 1.0928 - val_accuracy: 0.6009\n",
      "Epoch 3/100\n",
      "1563/1563 [==============================] - 59s 37ms/step - loss: 1.0299 - accuracy: 0.6333 - val_loss: 1.0220 - val_accuracy: 0.6439\n",
      "Epoch 4/100\n",
      "1563/1563 [==============================] - 57s 37ms/step - loss: 0.9072 - accuracy: 0.6774 - val_loss: 0.9564 - val_accuracy: 0.6650\n",
      "Epoch 5/100\n",
      "1563/1563 [==============================] - 59s 38ms/step - loss: 0.8127 - accuracy: 0.7136 - val_loss: 0.9414 - val_accuracy: 0.6680\n",
      "Epoch 6/100\n",
      "1563/1563 [==============================] - 58s 37ms/step - loss: 0.7222 - accuracy: 0.7436 - val_loss: 0.8665 - val_accuracy: 0.6962\n",
      "Epoch 7/100\n",
      "1563/1563 [==============================] - 56s 36ms/step - loss: 0.6498 - accuracy: 0.7693 - val_loss: 0.8760 - val_accuracy: 0.6929\n",
      "Epoch 8/100\n",
      "1563/1563 [==============================] - 54s 35ms/step - loss: 0.5675 - accuracy: 0.7980 - val_loss: 0.9026 - val_accuracy: 0.7040\n",
      "Epoch 9/100\n",
      "1563/1563 [==============================] - 58s 37ms/step - loss: 0.5074 - accuracy: 0.8185 - val_loss: 0.9162 - val_accuracy: 0.7007\n",
      "Epoch 10/100\n",
      "1563/1563 [==============================] - 58s 37ms/step - loss: 0.4537 - accuracy: 0.8400 - val_loss: 0.9743 - val_accuracy: 0.6960\n",
      "Epoch 11/100\n",
      "1563/1563 [==============================] - 57s 37ms/step - loss: 0.4085 - accuracy: 0.8553 - val_loss: 0.9637 - val_accuracy: 0.7010\n",
      "Epoch 12/100\n",
      "1563/1563 [==============================] - 58s 37ms/step - loss: 0.3756 - accuracy: 0.8676 - val_loss: 1.0079 - val_accuracy: 0.7036\n",
      "Epoch 13/100\n",
      "1563/1563 [==============================] - 57s 37ms/step - loss: 0.3397 - accuracy: 0.8796 - val_loss: 1.0446 - val_accuracy: 0.6870\n",
      "Epoch 14/100\n",
      "1563/1563 [==============================] - 58s 37ms/step - loss: 0.3141 - accuracy: 0.8894 - val_loss: 1.0830 - val_accuracy: 0.7007\n",
      "Epoch 15/100\n",
      "1563/1563 [==============================] - 57s 36ms/step - loss: 0.2978 - accuracy: 0.8952 - val_loss: 1.0869 - val_accuracy: 0.7051\n",
      "Epoch 16/100\n",
      "1563/1563 [==============================] - 55s 35ms/step - loss: 0.2752 - accuracy: 0.9033 - val_loss: 1.1223 - val_accuracy: 0.7059\n",
      "Epoch 17/100\n",
      "1563/1563 [==============================] - 58s 37ms/step - loss: 0.2687 - accuracy: 0.9064 - val_loss: 1.1419 - val_accuracy: 0.7057\n",
      "Epoch 18/100\n",
      "1563/1563 [==============================] - 57s 37ms/step - loss: 0.2569 - accuracy: 0.9114 - val_loss: 1.1680 - val_accuracy: 0.7013\n",
      "Epoch 19/100\n",
      "1563/1563 [==============================] - 56s 36ms/step - loss: 0.2449 - accuracy: 0.9146 - val_loss: 1.2304 - val_accuracy: 0.6963\n",
      "Epoch 20/100\n",
      "1563/1563 [==============================] - 53s 34ms/step - loss: 0.2405 - accuracy: 0.9177 - val_loss: 1.1853 - val_accuracy: 0.6925\n",
      "Epoch 21/100\n",
      "1563/1563 [==============================] - 65s 42ms/step - loss: 0.2336 - accuracy: 0.9200 - val_loss: 1.2520 - val_accuracy: 0.6881\n",
      "Epoch 22/100\n",
      "1563/1563 [==============================] - 82s 53ms/step - loss: 0.2204 - accuracy: 0.9249 - val_loss: 1.2251 - val_accuracy: 0.7031\n",
      "Epoch 23/100\n",
      "1563/1563 [==============================] - 81s 52ms/step - loss: 0.2161 - accuracy: 0.9279 - val_loss: 1.2590 - val_accuracy: 0.6957\n",
      "Epoch 24/100\n",
      "1563/1563 [==============================] - 78s 50ms/step - loss: 0.2142 - accuracy: 0.9275 - val_loss: 1.3338 - val_accuracy: 0.6906\n",
      "Epoch 25/100\n",
      "1563/1563 [==============================] - 76s 49ms/step - loss: 0.2098 - accuracy: 0.9292 - val_loss: 1.3347 - val_accuracy: 0.6977\n",
      "Epoch 26/100\n",
      "1563/1563 [==============================] - 81s 52ms/step - loss: 0.2010 - accuracy: 0.9329 - val_loss: 1.2886 - val_accuracy: 0.6941\n",
      "Epoch 27/100\n",
      "1563/1563 [==============================] - 79s 51ms/step - loss: 0.1940 - accuracy: 0.9362 - val_loss: 1.3327 - val_accuracy: 0.6964\n",
      "Epoch 28/100\n",
      "1563/1563 [==============================] - 78s 50ms/step - loss: 0.2013 - accuracy: 0.9338 - val_loss: 1.3657 - val_accuracy: 0.7044\n",
      "Epoch 29/100\n",
      "1563/1563 [==============================] - 53s 34ms/step - loss: 0.1949 - accuracy: 0.9346 - val_loss: 1.3832 - val_accuracy: 0.6964\n",
      "Epoch 30/100\n",
      "1563/1563 [==============================] - 50s 32ms/step - loss: 0.1917 - accuracy: 0.9370 - val_loss: 1.3240 - val_accuracy: 0.6988\n",
      "Epoch 31/100\n",
      "1563/1563 [==============================] - 50s 32ms/step - loss: 0.1899 - accuracy: 0.9377 - val_loss: 1.4714 - val_accuracy: 0.7046\n",
      "Epoch 32/100\n",
      "1563/1563 [==============================] - 51s 32ms/step - loss: 0.1864 - accuracy: 0.9373 - val_loss: 1.4595 - val_accuracy: 0.6996\n",
      "Epoch 33/100\n",
      "1563/1563 [==============================] - 55s 35ms/step - loss: 0.1763 - accuracy: 0.9424 - val_loss: 1.4320 - val_accuracy: 0.6987\n",
      "Epoch 34/100\n",
      "1563/1563 [==============================] - 55s 35ms/step - loss: 0.1834 - accuracy: 0.9400 - val_loss: 1.3687 - val_accuracy: 0.6915\n",
      "Epoch 35/100\n",
      "1563/1563 [==============================] - 56s 36ms/step - loss: 0.1842 - accuracy: 0.9405 - val_loss: 1.4271 - val_accuracy: 0.6979\n",
      "Epoch 36/100\n",
      "1563/1563 [==============================] - 60s 39ms/step - loss: 0.1707 - accuracy: 0.9447 - val_loss: 1.4582 - val_accuracy: 0.7001\n",
      "Epoch 37/100\n",
      "1563/1563 [==============================] - 56s 36ms/step - loss: 0.1745 - accuracy: 0.9439 - val_loss: 1.4707 - val_accuracy: 0.7009\n",
      "Epoch 38/100\n",
      "1563/1563 [==============================] - 57s 36ms/step - loss: 0.1707 - accuracy: 0.9445 - val_loss: 1.5365 - val_accuracy: 0.6964\n",
      "Epoch 39/100\n",
      "1563/1563 [==============================] - 59s 38ms/step - loss: 0.1736 - accuracy: 0.9440 - val_loss: 1.4398 - val_accuracy: 0.6944\n",
      "Epoch 40/100\n",
      "1563/1563 [==============================] - 58s 37ms/step - loss: 0.1647 - accuracy: 0.9467 - val_loss: 1.5424 - val_accuracy: 0.6963\n",
      "Epoch 41/100\n",
      "1563/1563 [==============================] - 64s 41ms/step - loss: 0.1693 - accuracy: 0.9462 - val_loss: 1.5099 - val_accuracy: 0.6979\n",
      "Epoch 42/100\n",
      "1563/1563 [==============================] - 69s 44ms/step - loss: 0.1668 - accuracy: 0.9474 - val_loss: 1.5615 - val_accuracy: 0.6932\n",
      "Epoch 43/100\n",
      "1563/1563 [==============================] - 58s 37ms/step - loss: 0.1588 - accuracy: 0.9492 - val_loss: 1.5444 - val_accuracy: 0.6943\n",
      "Epoch 44/100\n",
      "1563/1563 [==============================] - 57s 36ms/step - loss: 0.1734 - accuracy: 0.9442 - val_loss: 1.5431 - val_accuracy: 0.6870\n",
      "Epoch 45/100\n",
      "1563/1563 [==============================] - 55s 35ms/step - loss: 0.1584 - accuracy: 0.9503 - val_loss: 1.5609 - val_accuracy: 0.6951\n",
      "Epoch 46/100\n",
      "1563/1563 [==============================] - 58s 37ms/step - loss: 0.1598 - accuracy: 0.9480 - val_loss: 1.5503 - val_accuracy: 0.6999\n",
      "Epoch 47/100\n",
      "1563/1563 [==============================] - 55s 35ms/step - loss: 0.1648 - accuracy: 0.9482 - val_loss: 1.6014 - val_accuracy: 0.6921\n",
      "Epoch 48/100\n",
      "1563/1563 [==============================] - 56s 36ms/step - loss: 0.1561 - accuracy: 0.9512 - val_loss: 1.5830 - val_accuracy: 0.6986\n",
      "Epoch 49/100\n",
      "1563/1563 [==============================] - 59s 38ms/step - loss: 0.1574 - accuracy: 0.9503 - val_loss: 1.5447 - val_accuracy: 0.7021\n",
      "Epoch 50/100\n",
      "1563/1563 [==============================] - 58s 37ms/step - loss: 0.1556 - accuracy: 0.9516 - val_loss: 1.5723 - val_accuracy: 0.6926\n",
      "Epoch 51/100\n",
      "1563/1563 [==============================] - 57s 37ms/step - loss: 0.1558 - accuracy: 0.9515 - val_loss: 1.5985 - val_accuracy: 0.6902\n",
      "Epoch 52/100\n",
      "1563/1563 [==============================] - 58s 37ms/step - loss: 0.1523 - accuracy: 0.9521 - val_loss: 1.5982 - val_accuracy: 0.6903\n",
      "Epoch 53/100\n",
      "1563/1563 [==============================] - 60s 38ms/step - loss: 0.1542 - accuracy: 0.9528 - val_loss: 1.6696 - val_accuracy: 0.6880\n",
      "Epoch 54/100\n",
      "1563/1563 [==============================] - 59s 38ms/step - loss: 0.1560 - accuracy: 0.9514 - val_loss: 1.7433 - val_accuracy: 0.6969\n",
      "Epoch 55/100\n",
      "1563/1563 [==============================] - 55s 35ms/step - loss: 0.1475 - accuracy: 0.9544 - val_loss: 1.6557 - val_accuracy: 0.6926\n",
      "Epoch 56/100\n"
     ]
    },
    {
     "name": "stdout",
     "output_type": "stream",
     "text": [
      "1563/1563 [==============================] - 56s 36ms/step - loss: 0.1525 - accuracy: 0.9524 - val_loss: 1.6908 - val_accuracy: 0.6973\n",
      "Epoch 57/100\n",
      "1563/1563 [==============================] - 59s 37ms/step - loss: 0.1477 - accuracy: 0.9547 - val_loss: 1.6639 - val_accuracy: 0.6978\n",
      "Epoch 58/100\n",
      "1563/1563 [==============================] - 58s 37ms/step - loss: 0.1545 - accuracy: 0.9522 - val_loss: 1.7604 - val_accuracy: 0.6960\n",
      "Epoch 59/100\n",
      "1563/1563 [==============================] - 57s 37ms/step - loss: 0.1495 - accuracy: 0.9537 - val_loss: 1.7149 - val_accuracy: 0.7007\n",
      "Epoch 60/100\n",
      "1563/1563 [==============================] - 57s 36ms/step - loss: 0.1500 - accuracy: 0.9538 - val_loss: 1.6392 - val_accuracy: 0.6918\n",
      "Epoch 61/100\n",
      "1563/1563 [==============================] - 58s 37ms/step - loss: 0.1508 - accuracy: 0.9536 - val_loss: 1.6727 - val_accuracy: 0.6941\n",
      "Epoch 62/100\n",
      "1563/1563 [==============================] - 57s 36ms/step - loss: 0.1445 - accuracy: 0.9556 - val_loss: 1.7348 - val_accuracy: 0.6882\n",
      "Epoch 63/100\n",
      "1563/1563 [==============================] - 54s 35ms/step - loss: 0.1485 - accuracy: 0.9544 - val_loss: 1.7057 - val_accuracy: 0.6866\n",
      "Epoch 64/100\n",
      "1563/1563 [==============================] - 55s 35ms/step - loss: 0.1479 - accuracy: 0.9559 - val_loss: 1.7529 - val_accuracy: 0.6897\n",
      "Epoch 65/100\n",
      "1563/1563 [==============================] - 56s 36ms/step - loss: 0.1514 - accuracy: 0.9554 - val_loss: 1.7337 - val_accuracy: 0.6905\n",
      "Epoch 66/100\n",
      "1563/1563 [==============================] - 74s 47ms/step - loss: 0.1388 - accuracy: 0.9571 - val_loss: 1.6812 - val_accuracy: 0.6961\n",
      "Epoch 67/100\n",
      "1563/1563 [==============================] - 73s 47ms/step - loss: 0.1447 - accuracy: 0.9564 - val_loss: 1.7758 - val_accuracy: 0.6972\n",
      "Epoch 68/100\n",
      "1563/1563 [==============================] - 71s 45ms/step - loss: 0.1493 - accuracy: 0.9553 - val_loss: 1.8364 - val_accuracy: 0.6972\n",
      "Epoch 69/100\n",
      "1563/1563 [==============================] - 54s 35ms/step - loss: 0.1432 - accuracy: 0.9558 - val_loss: 1.6962 - val_accuracy: 0.6985\n",
      "Epoch 70/100\n",
      "1563/1563 [==============================] - 52s 34ms/step - loss: 0.1375 - accuracy: 0.9589 - val_loss: 1.8419 - val_accuracy: 0.6965\n",
      "Epoch 71/100\n",
      "1563/1563 [==============================] - 74s 47ms/step - loss: 0.1384 - accuracy: 0.9581 - val_loss: 1.8293 - val_accuracy: 0.6774\n",
      "Epoch 72/100\n",
      "1563/1563 [==============================] - 77s 50ms/step - loss: 0.1456 - accuracy: 0.9570 - val_loss: 1.7565 - val_accuracy: 0.6963\n",
      "Epoch 73/100\n",
      "1563/1563 [==============================] - 51s 33ms/step - loss: 0.1387 - accuracy: 0.9585 - val_loss: 1.7769 - val_accuracy: 0.7013\n",
      "Epoch 74/100\n",
      "1563/1563 [==============================] - 49s 31ms/step - loss: 0.1387 - accuracy: 0.9586 - val_loss: 1.7599 - val_accuracy: 0.7009\n",
      "Epoch 75/100\n",
      "1563/1563 [==============================] - 68s 44ms/step - loss: 0.1426 - accuracy: 0.9576 - val_loss: 1.8868 - val_accuracy: 0.6942\n",
      "Epoch 76/100\n",
      "1563/1563 [==============================] - 72s 46ms/step - loss: 0.1377 - accuracy: 0.9599 - val_loss: 1.8049 - val_accuracy: 0.6991\n",
      "Epoch 77/100\n",
      "1563/1563 [==============================] - 72s 46ms/step - loss: 0.1349 - accuracy: 0.9606 - val_loss: 1.7830 - val_accuracy: 0.6989\n",
      "Epoch 78/100\n",
      "1563/1563 [==============================] - 68s 44ms/step - loss: 0.1372 - accuracy: 0.9604 - val_loss: 1.7073 - val_accuracy: 0.7011\n",
      "Epoch 79/100\n",
      "1563/1563 [==============================] - 53s 34ms/step - loss: 0.1396 - accuracy: 0.9601 - val_loss: 1.7685 - val_accuracy: 0.6919\n",
      "Epoch 80/100\n",
      "1563/1563 [==============================] - 56s 36ms/step - loss: 0.1402 - accuracy: 0.9590 - val_loss: 1.9451 - val_accuracy: 0.6948\n",
      "Epoch 81/100\n",
      "1563/1563 [==============================] - 56s 36ms/step - loss: 0.1331 - accuracy: 0.9621 - val_loss: 1.8806 - val_accuracy: 0.6921\n",
      "Epoch 82/100\n",
      "1563/1563 [==============================] - 61s 39ms/step - loss: 0.1352 - accuracy: 0.9605 - val_loss: 1.9422 - val_accuracy: 0.6935\n",
      "Epoch 83/100\n",
      "1563/1563 [==============================] - 54s 35ms/step - loss: 0.1394 - accuracy: 0.9587 - val_loss: 1.9422 - val_accuracy: 0.6922\n",
      "Epoch 84/100\n",
      "1563/1563 [==============================] - 62s 40ms/step - loss: 0.1285 - accuracy: 0.9623 - val_loss: 1.8814 - val_accuracy: 0.6922\n",
      "Epoch 85/100\n",
      "1563/1563 [==============================] - 64s 41ms/step - loss: 0.1327 - accuracy: 0.9624 - val_loss: 1.9041 - val_accuracy: 0.6950\n",
      "Epoch 86/100\n",
      "1563/1563 [==============================] - 58s 37ms/step - loss: 0.1367 - accuracy: 0.9619 - val_loss: 1.8615 - val_accuracy: 0.7002\n",
      "Epoch 87/100\n",
      "1563/1563 [==============================] - 62s 40ms/step - loss: 0.1410 - accuracy: 0.9596 - val_loss: 1.8248 - val_accuracy: 0.6931\n",
      "Epoch 88/100\n",
      "1563/1563 [==============================] - 64s 41ms/step - loss: 0.1295 - accuracy: 0.9621 - val_loss: 1.8257 - val_accuracy: 0.6969\n",
      "Epoch 89/100\n",
      "1563/1563 [==============================] - 60s 38ms/step - loss: 0.1375 - accuracy: 0.9614 - val_loss: 1.9943 - val_accuracy: 0.6891\n",
      "Epoch 90/100\n",
      "1563/1563 [==============================] - 58s 37ms/step - loss: 0.1283 - accuracy: 0.9626 - val_loss: 1.9132 - val_accuracy: 0.6989\n",
      "Epoch 91/100\n",
      "1563/1563 [==============================] - 57s 37ms/step - loss: 0.1370 - accuracy: 0.9601 - val_loss: 1.9397 - val_accuracy: 0.6992\n",
      "Epoch 92/100\n",
      "1563/1563 [==============================] - 58s 37ms/step - loss: 0.1342 - accuracy: 0.9612 - val_loss: 1.9126 - val_accuracy: 0.6936\n",
      "Epoch 93/100\n",
      "1563/1563 [==============================] - 56s 36ms/step - loss: 0.1318 - accuracy: 0.9616 - val_loss: 1.9251 - val_accuracy: 0.6885\n",
      "Epoch 94/100\n",
      "1563/1563 [==============================] - 57s 37ms/step - loss: 0.1396 - accuracy: 0.9607 - val_loss: 1.8012 - val_accuracy: 0.6894\n",
      "Epoch 95/100\n",
      "1563/1563 [==============================] - 51s 33ms/step - loss: 0.1322 - accuracy: 0.9622 - val_loss: 2.0391 - val_accuracy: 0.6832\n",
      "Epoch 96/100\n",
      "1563/1563 [==============================] - 58s 37ms/step - loss: 0.1381 - accuracy: 0.9608 - val_loss: 1.9387 - val_accuracy: 0.6955\n",
      "Epoch 97/100\n",
      "1563/1563 [==============================] - 58s 37ms/step - loss: 0.1315 - accuracy: 0.9627 - val_loss: 1.9518 - val_accuracy: 0.6894\n",
      "Epoch 98/100\n",
      "1563/1563 [==============================] - 59s 38ms/step - loss: 0.1329 - accuracy: 0.9624 - val_loss: 1.9869 - val_accuracy: 0.6869\n",
      "Epoch 99/100\n",
      "1563/1563 [==============================] - 61s 39ms/step - loss: 0.1346 - accuracy: 0.9621 - val_loss: 1.8938 - val_accuracy: 0.7000\n",
      "Epoch 100/100\n",
      "1563/1563 [==============================] - 59s 38ms/step - loss: 0.1308 - accuracy: 0.9619 - val_loss: 1.9838 - val_accuracy: 0.6967\n"
     ]
    }
   ],
   "source": [
    "result = model.fit(x_train, y_train, validation_data=(x_test, y_test), epochs=100)"
   ]
  },
  {
   "cell_type": "code",
   "execution_count": 16,
   "id": "617da911",
   "metadata": {},
   "outputs": [
    {
     "name": "stdout",
     "output_type": "stream",
     "text": [
      "313/313 [==============================] - 2s 5ms/step - loss: 1.9838 - accuracy: 0.6967\n"
     ]
    },
    {
     "data": {
      "text/plain": [
       "[1.983824372291565, 0.6966999769210815]"
      ]
     },
     "execution_count": 16,
     "metadata": {},
     "output_type": "execute_result"
    }
   ],
   "source": [
    "model.evaluate(x_test, y_test)"
   ]
  },
  {
   "cell_type": "code",
   "execution_count": 17,
   "id": "1d53d4d1",
   "metadata": {},
   "outputs": [
    {
     "data": {
      "text/plain": [
       "<matplotlib.legend.Legend at 0x1ee34ce04c0>"
      ]
     },
     "execution_count": 17,
     "metadata": {},
     "output_type": "execute_result"
    },
    {
     "data": {
      "image/png": "[encoded data removed]",
      "text/plain": [
       "<Figure size 432x288 with 1 Axes>"
      ]
     },
     "metadata": {
      "needs_background": "light"
     },
     "output_type": "display_data"
    }
   ],
   "source": [
    "import matplotlib.pyplot as plt\n",
    "plt.plot(result.history['loss'], label='loss')\n",
    "plt.plot(result.history['val_loss'], label='val_loss')\n",
    "plt.legend()"
   ]
  },
  {
   "cell_type": "code",
   "execution_count": 18,
   "id": "04820d76",
   "metadata": {},
   "outputs": [
    {
     "data": {
      "text/plain": [
       "<matplotlib.legend.Legend at 0x1ee34de7190>"
      ]
     },
     "execution_count": 18,
     "metadata": {},
     "output_type": "execute_result"
    },
    {
     "data": {
      "image/png": "[encoded data removed]",
      "text/plain": [
       "<Figure size 432x288 with 1 Axes>"
      ]
     },
     "metadata": {
      "needs_background": "light"
     },
     "output_type": "display_data"
    }
   ],
   "source": [
    "plt.plot(result.history['accuracy'], label='acc')\n",
    "plt.plot(result.history['val_accuracy'], label='val_acc')\n",
    "plt.legend()"
   ]
  },
  {
   "cell_type": "code",
   "execution_count": 19,
   "id": "91fd8dee",
   "metadata": {},
   "outputs": [
    {
     "name": "stdout",
     "output_type": "stream",
     "text": [
      "Confusion matrix, without normalization\n",
      "[[743  30  44  24  24   9   9  17  65  35]\n",
      " [  7 840  10  16   3   5  15   4  28  72]\n",
      " [ 59   9 557  95  88  61  76  32  17   6]\n",
      " [ 21   2  62 529  61 175  75  46  15  14]\n",
      " [ 21   3  56  88 637  33  57  84  10  11]\n",
      " [ 19   8  48 241  48 540  27  47  12  10]\n",
      " [  8   6  36  69  41  32 782  13   9   4]\n",
      " [ 12   5  18  60  48  55   8 774   5  15]\n",
      " [ 70  42  19  14  10  11   9  11 788  26]\n",
      " [ 38  84   9  29   4   8  12  14  25 777]]\n"
     ]
    },
    {
     "data": {
      "image/png": "[encoded data removed]",
      "text/plain": [
       "<Figure size 432x288 with 2 Axes>"
      ]
     },
     "metadata": {
      "needs_background": "light"
     },
     "output_type": "display_data"
    }
   ],
   "source": [
    "# Plot confusion matrix\n",
    "from sklearn.metrics import confusion_matrix\n",
    "import itertools\n",
    "\n",
    "def plot_confusion_matrix(cm, classes,\n",
    "                          normalize=False,\n",
    "                          title='Confusion matrix',\n",
    "                          cmap=plt.cm.Blues):\n",
    "  \"\"\"\n",
    "  This function prints and plots the confusion matrix.\n",
    "  Normalization can be applied by setting `normalize=True`.\n",
    "  \"\"\"\n",
    "  if normalize:\n",
    "      cm = cm.astype('float') / cm.sum(axis=1)[:, np.newaxis]\n",
    "      print(\"Normalized confusion matrix\")\n",
    "  else:\n",
    "      print('Confusion matrix, without normalization')\n",
    "\n",
    "  print(cm)\n",
    "\n",
    "  plt.imshow(cm, interpolation='nearest', cmap=cmap)\n",
    "  plt.title(title)\n",
    "  plt.colorbar()\n",
    "  tick_marks = np.arange(len(classes))\n",
    "  plt.xticks(tick_marks, classes, rotation=45)\n",
    "  plt.yticks(tick_marks, classes)\n",
    "\n",
    "  fmt = '.2f' if normalize else 'd'\n",
    "  thresh = cm.max() / 2.\n",
    "  for i, j in itertools.product(range(cm.shape[0]), range(cm.shape[1])):\n",
    "      plt.text(j, i, format(cm[i, j], fmt),\n",
    "               horizontalalignment=\"center\",\n",
    "               color=\"white\" if cm[i, j] > thresh else \"black\")\n",
    "\n",
    "  plt.tight_layout()\n",
    "  plt.ylabel('True label')\n",
    "  plt.xlabel('Predicted label')\n",
    "  plt.show()\n",
    "\n",
    "\n",
    "p_test = model.predict(x_test).argmax(axis=1)\n",
    "cm = confusion_matrix(y_test, p_test)\n",
    "plot_confusion_matrix(cm, list(range(10)))"
   ]
  },
  {
   "cell_type": "code",
   "execution_count": 20,
   "id": "2638d8bc",
   "metadata": {},
   "outputs": [],
   "source": [
    "# label mapping\n",
    "labels = '''airplane\n",
    "automobile\n",
    "bird\n",
    "cat\n",
    "deer\n",
    "dog\n",
    "frog\n",
    "horse\n",
    "ship\n",
    "truck'''.split()"
   ]
  },
  {
   "cell_type": "code",
   "execution_count": 24,
   "id": "a3c5afc7",
   "metadata": {},
   "outputs": [
    {
     "data": {
      "image/png": "[encoded data removed]",
      "text/plain": [
       "<Figure size 432x288 with 1 Axes>"
      ]
     },
     "metadata": {
      "needs_background": "light"
     },
     "output_type": "display_data"
    }
   ],
   "source": [
    "# Show some misclassified examples\n",
    "misclassified_idx = np.where(p_test != y_test)[0]\n",
    "i = np.random.choice(misclassified_idx)\n",
    "plt.imshow(x_test[i], cmap='gray')\n",
    "plt.title(\"True label: %s Predicted: %s\" % (labels[y_test[i]], labels[p_test[i]]));"
   ]
  },
  {
   "cell_type": "code",
   "execution_count": 25,
   "id": "9b226e35",
   "metadata": {},
   "outputs": [
    {
     "name": "stdout",
     "output_type": "stream",
     "text": [
      "Model: \"sequential_2\"\n",
      "_________________________________________________________________\n",
      "Layer (type)                 Output Shape              Param #   \n",
      "=================================================================\n",
      "conv2d_4 (Conv2D)            (None, 15, 15, 32)        896       \n",
      "_________________________________________________________________\n",
      "conv2d_5 (Conv2D)            (None, 7, 7, 64)          18496     \n",
      "_________________________________________________________________\n",
      "conv2d_6 (Conv2D)            (None, 3, 3, 128)         73856     \n",
      "_________________________________________________________________\n",
      "flatten (Flatten)            (None, 1152)              0         \n",
      "_________________________________________________________________\n",
      "dropout (Dropout)            (None, 1152)              0         \n",
      "_________________________________________________________________\n",
      "dense (Dense)                (None, 1024)              1180672   \n",
      "_________________________________________________________________\n",
      "dropout_1 (Dropout)          (None, 1024)              0         \n",
      "_________________________________________________________________\n",
      "dense_1 (Dense)              (None, 10)                10250     \n",
      "=================================================================\n",
      "Total params: 1,284,170\n",
      "Trainable params: 1,284,170\n",
      "Non-trainable params: 0\n",
      "_________________________________________________________________\n"
     ]
    }
   ],
   "source": [
    "model.summary()"
   ]
  }
 ],
 "metadata": {
  "kernelspec": {
   "display_name": "Tensorflow",
   "language": "python",
   "name": "tensorflow"
  },
  "language_info": {
   "codemirror_mode": {
    "name": "ipython",
    "version": 3
   },
   "file_extension": ".py",
   "mimetype": "text/x-python",
   "name": "python",
   "nbconvert_exporter": "python",
   "pygments_lexer": "ipython3",
   "version": "3.9.4"
  }
 },
 "nbformat": 4,
 "nbformat_minor": 5
}
