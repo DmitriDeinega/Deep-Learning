{
 "cells": [
  {
   "cell_type": "code",
   "execution_count": 8,
   "id": "53be9ecf",
   "metadata": {},
   "outputs": [],
   "source": [
    "import tensorflow as tf\n",
    "import numpy as np"
   ]
  },
  {
   "cell_type": "code",
   "execution_count": 6,
   "id": "7d2df506",
   "metadata": {},
   "outputs": [],
   "source": [
    "(x_train, y_train), (x_test, y_test) = tf.keras.datasets.fashion_mnist.load_data()"
   ]
  },
  {
   "cell_type": "code",
   "execution_count": 7,
   "id": "a043b57d",
   "metadata": {},
   "outputs": [],
   "source": [
    "x_train, x_test = x_train/255, x_test/255"
   ]
  },
  {
   "cell_type": "code",
   "execution_count": 9,
   "id": "78d48d94",
   "metadata": {},
   "outputs": [],
   "source": [
    "x_train = np.expand_dims(x_train, -1)\n",
    "x_test = np.expand_dims(x_test, -1)"
   ]
  },
  {
   "cell_type": "code",
   "execution_count": 11,
   "id": "8d9c40ae",
   "metadata": {},
   "outputs": [],
   "source": [
    "k = len(set(y_train))"
   ]
  },
  {
   "cell_type": "code",
   "execution_count": 18,
   "id": "fa30baa3",
   "metadata": {},
   "outputs": [],
   "source": [
    "model = tf.keras.models.Sequential()\n",
    "model.add(tf.keras.layers.InputLayer(input_shape=x_train[0].shape))\n",
    "model.add(tf.keras.layers.Conv2D(32, (3,3), strides=2, activation='relu'))\n",
    "model.add(tf.keras.layers.Conv2D(64, (3,3), strides=2, activation='relu'))\n",
    "model.add(tf.keras.layers.Conv2D(128, (3,3), strides=2, activation='relu'))\n",
    "model.add(tf.keras.layers.Flatten())\n",
    "model.add(tf.keras.layers.Dropout(0.2))\n",
    "model.add(tf.keras.layers.Dense(512, activation='relu'))\n",
    "model.add(tf.keras.layers.Dropout(0.2))\n",
    "model.add(tf.keras.layers.Dense(k, activation='softmax'))"
   ]
  },
  {
   "cell_type": "code",
   "execution_count": 22,
   "id": "e2a270f7",
   "metadata": {},
   "outputs": [],
   "source": [
    "model.compile(optimizer='adam', loss='sparse_categorical_crossentropy', metrics=['accuracy'])"
   ]
  },
  {
   "cell_type": "code",
   "execution_count": 23,
   "id": "62541b63",
   "metadata": {},
   "outputs": [
    {
     "name": "stdout",
     "output_type": "stream",
     "text": [
      "Epoch 1/100\n",
      "1875/1875 [==============================] - 15s 8ms/step - loss: 0.6888 - accuracy: 0.7504 - val_loss: 0.4039 - val_accuracy: 0.8495\n",
      "Epoch 2/100\n",
      "1875/1875 [==============================] - 14s 7ms/step - loss: 0.3707 - accuracy: 0.8597 - val_loss: 0.3640 - val_accuracy: 0.8651\n",
      "Epoch 3/100\n",
      "1875/1875 [==============================] - 14s 7ms/step - loss: 0.3200 - accuracy: 0.8801 - val_loss: 0.3305 - val_accuracy: 0.8787\n",
      "Epoch 4/100\n",
      "1875/1875 [==============================] - 50s 27ms/step - loss: 0.2792 - accuracy: 0.8940 - val_loss: 0.3133 - val_accuracy: 0.8823\n",
      "Epoch 5/100\n",
      "1875/1875 [==============================] - 46s 24ms/step - loss: 0.2497 - accuracy: 0.9057 - val_loss: 0.2906 - val_accuracy: 0.8923\n",
      "Epoch 6/100\n",
      "1875/1875 [==============================] - 43s 23ms/step - loss: 0.2319 - accuracy: 0.9133 - val_loss: 0.2948 - val_accuracy: 0.8930\n",
      "Epoch 7/100\n",
      "1875/1875 [==============================] - 40s 21ms/step - loss: 0.2079 - accuracy: 0.9210 - val_loss: 0.2961 - val_accuracy: 0.8940\n",
      "Epoch 8/100\n",
      "1875/1875 [==============================] - 36s 19ms/step - loss: 0.1971 - accuracy: 0.9254 - val_loss: 0.2915 - val_accuracy: 0.8981\n",
      "Epoch 9/100\n",
      "1875/1875 [==============================] - 38s 20ms/step - loss: 0.1757 - accuracy: 0.9324 - val_loss: 0.3070 - val_accuracy: 0.8956\n",
      "Epoch 10/100\n",
      "1875/1875 [==============================] - 35s 18ms/step - loss: 0.1668 - accuracy: 0.9361 - val_loss: 0.3087 - val_accuracy: 0.8975\n",
      "Epoch 11/100\n",
      "1875/1875 [==============================] - 42s 22ms/step - loss: 0.1565 - accuracy: 0.9399 - val_loss: 0.3431 - val_accuracy: 0.9010\n",
      "Epoch 12/100\n",
      "1875/1875 [==============================] - 37s 20ms/step - loss: 0.1440 - accuracy: 0.9457 - val_loss: 0.3120 - val_accuracy: 0.9028\n",
      "Epoch 13/100\n",
      "1875/1875 [==============================] - 34s 18ms/step - loss: 0.1349 - accuracy: 0.9487 - val_loss: 0.3369 - val_accuracy: 0.9010\n",
      "Epoch 14/100\n",
      "1875/1875 [==============================] - 36s 19ms/step - loss: 0.1245 - accuracy: 0.9529 - val_loss: 0.3214 - val_accuracy: 0.9016\n",
      "Epoch 15/100\n",
      "1875/1875 [==============================] - 42s 22ms/step - loss: 0.1207 - accuracy: 0.9537 - val_loss: 0.3359 - val_accuracy: 0.9032\n",
      "Epoch 16/100\n",
      "1875/1875 [==============================] - 35s 19ms/step - loss: 0.1177 - accuracy: 0.9551 - val_loss: 0.3574 - val_accuracy: 0.9012\n",
      "Epoch 17/100\n",
      "1875/1875 [==============================] - 48s 25ms/step - loss: 0.1090 - accuracy: 0.9574 - val_loss: 0.3799 - val_accuracy: 0.9023\n",
      "Epoch 18/100\n",
      "1875/1875 [==============================] - 47s 25ms/step - loss: 0.1034 - accuracy: 0.9618 - val_loss: 0.3645 - val_accuracy: 0.9015\n",
      "Epoch 19/100\n",
      "1875/1875 [==============================] - 43s 23ms/step - loss: 0.1060 - accuracy: 0.9600 - val_loss: 0.3834 - val_accuracy: 0.9015\n",
      "Epoch 20/100\n",
      "1875/1875 [==============================] - 43s 23ms/step - loss: 0.0947 - accuracy: 0.9648 - val_loss: 0.4081 - val_accuracy: 0.9006\n",
      "Epoch 21/100\n",
      "1875/1875 [==============================] - 35s 18ms/step - loss: 0.0910 - accuracy: 0.9654 - val_loss: 0.4035 - val_accuracy: 0.9027\n",
      "Epoch 22/100\n",
      "1875/1875 [==============================] - 36s 19ms/step - loss: 0.0892 - accuracy: 0.9655 - val_loss: 0.4203 - val_accuracy: 0.9017\n",
      "Epoch 23/100\n",
      "1875/1875 [==============================] - 34s 18ms/step - loss: 0.0870 - accuracy: 0.9663 - val_loss: 0.4261 - val_accuracy: 0.8973\n",
      "Epoch 24/100\n",
      "1875/1875 [==============================] - 37s 20ms/step - loss: 0.0866 - accuracy: 0.9674 - val_loss: 0.4482 - val_accuracy: 0.8997\n",
      "Epoch 25/100\n",
      "1875/1875 [==============================] - 38s 20ms/step - loss: 0.0806 - accuracy: 0.9706 - val_loss: 0.4423 - val_accuracy: 0.9029\n",
      "Epoch 26/100\n",
      "1875/1875 [==============================] - 36s 19ms/step - loss: 0.0767 - accuracy: 0.9725 - val_loss: 0.4682 - val_accuracy: 0.8991\n",
      "Epoch 27/100\n",
      "1875/1875 [==============================] - 36s 19ms/step - loss: 0.0820 - accuracy: 0.9699 - val_loss: 0.4504 - val_accuracy: 0.9012\n",
      "Epoch 28/100\n",
      "1875/1875 [==============================] - 37s 20ms/step - loss: 0.0757 - accuracy: 0.9723 - val_loss: 0.4614 - val_accuracy: 0.9017\n",
      "Epoch 29/100\n",
      "1875/1875 [==============================] - 36s 19ms/step - loss: 0.0739 - accuracy: 0.9723 - val_loss: 0.4876 - val_accuracy: 0.8949\n",
      "Epoch 30/100\n",
      "1875/1875 [==============================] - 36s 19ms/step - loss: 0.0725 - accuracy: 0.9733 - val_loss: 0.5111 - val_accuracy: 0.8999\n",
      "Epoch 31/100\n",
      "1875/1875 [==============================] - 38s 20ms/step - loss: 0.0741 - accuracy: 0.9723 - val_loss: 0.5234 - val_accuracy: 0.8953\n",
      "Epoch 32/100\n",
      "1875/1875 [==============================] - 37s 20ms/step - loss: 0.0733 - accuracy: 0.9733 - val_loss: 0.5104 - val_accuracy: 0.9030\n",
      "Epoch 33/100\n",
      "1875/1875 [==============================] - 36s 19ms/step - loss: 0.0694 - accuracy: 0.9749 - val_loss: 0.5254 - val_accuracy: 0.9026\n",
      "Epoch 34/100\n",
      "1875/1875 [==============================] - 36s 19ms/step - loss: 0.0679 - accuracy: 0.9750 - val_loss: 0.5404 - val_accuracy: 0.9021\n",
      "Epoch 35/100\n",
      "1875/1875 [==============================] - 36s 19ms/step - loss: 0.0661 - accuracy: 0.9770 - val_loss: 0.5095 - val_accuracy: 0.8968\n",
      "Epoch 36/100\n",
      "1875/1875 [==============================] - 38s 20ms/step - loss: 0.0661 - accuracy: 0.9765 - val_loss: 0.5164 - val_accuracy: 0.9003\n",
      "Epoch 37/100\n",
      "1875/1875 [==============================] - 35s 18ms/step - loss: 0.0704 - accuracy: 0.9756 - val_loss: 0.5180 - val_accuracy: 0.8997\n",
      "Epoch 38/100\n",
      "1875/1875 [==============================] - 32s 17ms/step - loss: 0.0620 - accuracy: 0.9778 - val_loss: 0.5287 - val_accuracy: 0.8993\n",
      "Epoch 39/100\n",
      "1875/1875 [==============================] - 32s 17ms/step - loss: 0.0652 - accuracy: 0.9767 - val_loss: 0.5068 - val_accuracy: 0.8999\n",
      "Epoch 40/100\n",
      "1875/1875 [==============================] - 37s 20ms/step - loss: 0.0670 - accuracy: 0.9759 - val_loss: 0.5509 - val_accuracy: 0.9022\n",
      "Epoch 41/100\n",
      "1875/1875 [==============================] - 35s 19ms/step - loss: 0.0606 - accuracy: 0.9790 - val_loss: 0.5923 - val_accuracy: 0.8952\n",
      "Epoch 42/100\n",
      "1875/1875 [==============================] - 38s 20ms/step - loss: 0.0643 - accuracy: 0.9775 - val_loss: 0.5586 - val_accuracy: 0.8997\n",
      "Epoch 43/100\n",
      "1875/1875 [==============================] - 36s 19ms/step - loss: 0.0619 - accuracy: 0.9784 - val_loss: 0.5328 - val_accuracy: 0.9024\n",
      "Epoch 44/100\n",
      "1875/1875 [==============================] - 37s 20ms/step - loss: 0.0587 - accuracy: 0.9798 - val_loss: 0.5469 - val_accuracy: 0.8986\n",
      "Epoch 45/100\n",
      "1875/1875 [==============================] - 34s 18ms/step - loss: 0.0642 - accuracy: 0.9776 - val_loss: 0.5506 - val_accuracy: 0.8983\n",
      "Epoch 46/100\n",
      "1875/1875 [==============================] - 35s 19ms/step - loss: 0.0598 - accuracy: 0.9792 - val_loss: 0.5706 - val_accuracy: 0.9002\n",
      "Epoch 47/100\n",
      "1875/1875 [==============================] - 49s 26ms/step - loss: 0.0589 - accuracy: 0.9807 - val_loss: 0.5640 - val_accuracy: 0.9002\n",
      "Epoch 48/100\n",
      "1875/1875 [==============================] - 44s 24ms/step - loss: 0.0590 - accuracy: 0.9796 - val_loss: 0.5959 - val_accuracy: 0.8975\n",
      "Epoch 49/100\n",
      "1875/1875 [==============================] - 38s 20ms/step - loss: 0.0562 - accuracy: 0.9798 - val_loss: 0.6009 - val_accuracy: 0.8977\n",
      "Epoch 50/100\n",
      "1875/1875 [==============================] - 38s 20ms/step - loss: 0.0616 - accuracy: 0.9793 - val_loss: 0.5809 - val_accuracy: 0.9019\n",
      "Epoch 51/100\n",
      "1875/1875 [==============================] - 39s 21ms/step - loss: 0.0609 - accuracy: 0.9795 - val_loss: 0.6280 - val_accuracy: 0.8958\n",
      "Epoch 52/100\n",
      "1875/1875 [==============================] - 44s 24ms/step - loss: 0.0526 - accuracy: 0.9809 - val_loss: 0.6710 - val_accuracy: 0.8979\n",
      "Epoch 53/100\n",
      "1875/1875 [==============================] - 42s 22ms/step - loss: 0.0549 - accuracy: 0.9813 - val_loss: 0.6383 - val_accuracy: 0.8958\n",
      "Epoch 54/100\n",
      "1875/1875 [==============================] - 38s 20ms/step - loss: 0.0596 - accuracy: 0.9804 - val_loss: 0.6471 - val_accuracy: 0.9026\n",
      "Epoch 55/100\n",
      "1875/1875 [==============================] - 36s 19ms/step - loss: 0.0526 - accuracy: 0.9826 - val_loss: 0.6047 - val_accuracy: 0.8996\n",
      "Epoch 56/100\n"
     ]
    },
    {
     "name": "stdout",
     "output_type": "stream",
     "text": [
      "1875/1875 [==============================] - 32s 17ms/step - loss: 0.0598 - accuracy: 0.9807 - val_loss: 0.6555 - val_accuracy: 0.9010\n",
      "Epoch 57/100\n",
      "1875/1875 [==============================] - 36s 19ms/step - loss: 0.0580 - accuracy: 0.9804 - val_loss: 0.6660 - val_accuracy: 0.8987\n",
      "Epoch 58/100\n",
      "1875/1875 [==============================] - 31s 16ms/step - loss: 0.0528 - accuracy: 0.9823 - val_loss: 0.6576 - val_accuracy: 0.8994\n",
      "Epoch 59/100\n",
      "1875/1875 [==============================] - 33s 18ms/step - loss: 0.0548 - accuracy: 0.9825 - val_loss: 0.6029 - val_accuracy: 0.9002\n",
      "Epoch 60/100\n",
      "1875/1875 [==============================] - 37s 19ms/step - loss: 0.0574 - accuracy: 0.9819 - val_loss: 0.6499 - val_accuracy: 0.8989\n",
      "Epoch 61/100\n",
      "1875/1875 [==============================] - 39s 21ms/step - loss: 0.0581 - accuracy: 0.9818 - val_loss: 0.6047 - val_accuracy: 0.9021\n",
      "Epoch 62/100\n",
      "1875/1875 [==============================] - 41s 22ms/step - loss: 0.0538 - accuracy: 0.9814 - val_loss: 0.5997 - val_accuracy: 0.8990\n",
      "Epoch 63/100\n",
      "1875/1875 [==============================] - 42s 23ms/step - loss: 0.0490 - accuracy: 0.9832 - val_loss: 0.6459 - val_accuracy: 0.8954\n",
      "Epoch 64/100\n",
      "1875/1875 [==============================] - 44s 23ms/step - loss: 0.0545 - accuracy: 0.9814 - val_loss: 0.6871 - val_accuracy: 0.9002\n",
      "Epoch 65/100\n",
      "1875/1875 [==============================] - 41s 22ms/step - loss: 0.0572 - accuracy: 0.9811 - val_loss: 0.6584 - val_accuracy: 0.8953\n",
      "Epoch 66/100\n",
      "1875/1875 [==============================] - 42s 22ms/step - loss: 0.0545 - accuracy: 0.9810 - val_loss: 0.6317 - val_accuracy: 0.8968\n",
      "Epoch 67/100\n",
      "1875/1875 [==============================] - 40s 21ms/step - loss: 0.0496 - accuracy: 0.9838 - val_loss: 0.6596 - val_accuracy: 0.8988\n",
      "Epoch 68/100\n",
      "1875/1875 [==============================] - 40s 21ms/step - loss: 0.0555 - accuracy: 0.9817 - val_loss: 0.6557 - val_accuracy: 0.8991\n",
      "Epoch 69/100\n",
      "1875/1875 [==============================] - 40s 21ms/step - loss: 0.0481 - accuracy: 0.9837 - val_loss: 0.6557 - val_accuracy: 0.8969\n",
      "Epoch 70/100\n",
      "1875/1875 [==============================] - 39s 21ms/step - loss: 0.0526 - accuracy: 0.9833 - val_loss: 0.6492 - val_accuracy: 0.9031\n",
      "Epoch 71/100\n",
      "1875/1875 [==============================] - 39s 21ms/step - loss: 0.0507 - accuracy: 0.9829 - val_loss: 0.7282 - val_accuracy: 0.9006\n",
      "Epoch 72/100\n",
      "1875/1875 [==============================] - 42s 22ms/step - loss: 0.0520 - accuracy: 0.9840 - val_loss: 0.6398 - val_accuracy: 0.8968\n",
      "Epoch 73/100\n",
      "1875/1875 [==============================] - 40s 22ms/step - loss: 0.0463 - accuracy: 0.9850 - val_loss: 0.6571 - val_accuracy: 0.9019\n",
      "Epoch 74/100\n",
      "1875/1875 [==============================] - 40s 21ms/step - loss: 0.0503 - accuracy: 0.9841 - val_loss: 0.6747 - val_accuracy: 0.9017\n",
      "Epoch 75/100\n",
      "1875/1875 [==============================] - 39s 21ms/step - loss: 0.0498 - accuracy: 0.9839 - val_loss: 0.7211 - val_accuracy: 0.8973\n",
      "Epoch 76/100\n",
      "1875/1875 [==============================] - 40s 21ms/step - loss: 0.0535 - accuracy: 0.9830 - val_loss: 0.6838 - val_accuracy: 0.9011\n",
      "Epoch 77/100\n",
      "1875/1875 [==============================] - 35s 19ms/step - loss: 0.0475 - accuracy: 0.9833 - val_loss: 0.7263 - val_accuracy: 0.8983\n",
      "Epoch 78/100\n",
      "1875/1875 [==============================] - 31s 17ms/step - loss: 0.0524 - accuracy: 0.9831 - val_loss: 0.7090 - val_accuracy: 0.8987\n",
      "Epoch 79/100\n",
      "1875/1875 [==============================] - 31s 17ms/step - loss: 0.0495 - accuracy: 0.9848 - val_loss: 0.7496 - val_accuracy: 0.8981\n",
      "Epoch 80/100\n",
      "1875/1875 [==============================] - 36s 19ms/step - loss: 0.0507 - accuracy: 0.9838 - val_loss: 0.7474 - val_accuracy: 0.8971\n",
      "Epoch 81/100\n",
      "1875/1875 [==============================] - 32s 17ms/step - loss: 0.0482 - accuracy: 0.9850 - val_loss: 0.7620 - val_accuracy: 0.8986\n",
      "Epoch 82/100\n",
      "1875/1875 [==============================] - 36s 19ms/step - loss: 0.0564 - accuracy: 0.9839 - val_loss: 0.7469 - val_accuracy: 0.8976\n",
      "Epoch 83/100\n",
      "1875/1875 [==============================] - 36s 19ms/step - loss: 0.0491 - accuracy: 0.9841 - val_loss: 0.7904 - val_accuracy: 0.9000\n",
      "Epoch 84/100\n",
      "1875/1875 [==============================] - 36s 19ms/step - loss: 0.0496 - accuracy: 0.9845 - val_loss: 0.7586 - val_accuracy: 0.8985\n",
      "Epoch 85/100\n",
      "1875/1875 [==============================] - 42s 23ms/step - loss: 0.0484 - accuracy: 0.9849 - val_loss: 0.7063 - val_accuracy: 0.8989\n",
      "Epoch 86/100\n",
      "1875/1875 [==============================] - 38s 21ms/step - loss: 0.0483 - accuracy: 0.9848 - val_loss: 0.7278 - val_accuracy: 0.8988\n",
      "Epoch 87/100\n",
      "1875/1875 [==============================] - 36s 19ms/step - loss: 0.0484 - accuracy: 0.9841 - val_loss: 0.7548 - val_accuracy: 0.9012\n",
      "Epoch 88/100\n",
      "1875/1875 [==============================] - 33s 18ms/step - loss: 0.0515 - accuracy: 0.9850 - val_loss: 0.7330 - val_accuracy: 0.8966\n",
      "Epoch 89/100\n",
      "1875/1875 [==============================] - 37s 20ms/step - loss: 0.0481 - accuracy: 0.9840 - val_loss: 0.7966 - val_accuracy: 0.9033\n",
      "Epoch 90/100\n",
      "1875/1875 [==============================] - 39s 21ms/step - loss: 0.0427 - accuracy: 0.9860 - val_loss: 0.7042 - val_accuracy: 0.9033\n",
      "Epoch 91/100\n",
      "1875/1875 [==============================] - 39s 21ms/step - loss: 0.0471 - accuracy: 0.9846 - val_loss: 0.7673 - val_accuracy: 0.9003\n",
      "Epoch 92/100\n",
      "1875/1875 [==============================] - 40s 22ms/step - loss: 0.0496 - accuracy: 0.9855 - val_loss: 0.7611 - val_accuracy: 0.8969\n",
      "Epoch 93/100\n",
      "1875/1875 [==============================] - 40s 21ms/step - loss: 0.0482 - accuracy: 0.9844 - val_loss: 0.8442 - val_accuracy: 0.8966\n",
      "Epoch 94/100\n",
      "1875/1875 [==============================] - 36s 19ms/step - loss: 0.0499 - accuracy: 0.9845 - val_loss: 0.7326 - val_accuracy: 0.9011\n",
      "Epoch 95/100\n",
      "1875/1875 [==============================] - 35s 19ms/step - loss: 0.0455 - accuracy: 0.9855 - val_loss: 0.7719 - val_accuracy: 0.8963\n",
      "Epoch 96/100\n",
      "1875/1875 [==============================] - 36s 19ms/step - loss: 0.0467 - accuracy: 0.9852 - val_loss: 0.7631 - val_accuracy: 0.8984\n",
      "Epoch 97/100\n",
      "1875/1875 [==============================] - 38s 20ms/step - loss: 0.0461 - accuracy: 0.9862 - val_loss: 0.7986 - val_accuracy: 0.8991\n",
      "Epoch 98/100\n",
      "1875/1875 [==============================] - 33s 18ms/step - loss: 0.0507 - accuracy: 0.9850 - val_loss: 0.7812 - val_accuracy: 0.9006\n",
      "Epoch 99/100\n",
      "1875/1875 [==============================] - 38s 20ms/step - loss: 0.0528 - accuracy: 0.9849 - val_loss: 0.7988 - val_accuracy: 0.8997\n",
      "Epoch 100/100\n",
      "1875/1875 [==============================] - 36s 19ms/step - loss: 0.0505 - accuracy: 0.9848 - val_loss: 0.7849 - val_accuracy: 0.9002\n"
     ]
    },
    {
     "data": {
      "text/plain": [
       "<tensorflow.python.keras.callbacks.History at 0x2979b797400>"
      ]
     },
     "execution_count": 23,
     "metadata": {},
     "output_type": "execute_result"
    }
   ],
   "source": [
    "model.fit(x_train, y_train, validation_data=(x_test, y_test), epochs=100)"
   ]
  },
  {
   "cell_type": "code",
   "execution_count": 24,
   "id": "b126b2bd",
   "metadata": {},
   "outputs": [
    {
     "name": "stdout",
     "output_type": "stream",
     "text": [
      "313/313 [==============================] - 1s 3ms/step - loss: 0.7849 - accuracy: 0.9002\n"
     ]
    },
    {
     "data": {
      "text/plain": [
       "[0.7849486470222473, 0.9002000093460083]"
      ]
     },
     "execution_count": 24,
     "metadata": {},
     "output_type": "execute_result"
    }
   ],
   "source": [
    "model.evaluate(x_test, y_test)"
   ]
  },
  {
   "cell_type": "code",
   "execution_count": null,
   "id": "91a52228",
   "metadata": {},
   "outputs": [],
   "source": []
  }
 ],
 "metadata": {
  "kernelspec": {
   "display_name": "Python 3 (ipykernel)",
   "language": "python",
   "name": "python3"
  },
  "language_info": {
   "codemirror_mode": {
    "name": "ipython",
    "version": 3
   },
   "file_extension": ".py",
   "mimetype": "text/x-python",
   "name": "python",
   "nbconvert_exporter": "python",
   "pygments_lexer": "ipython3",
   "version": "3.12.2"
  }
 },
 "nbformat": 4,
 "nbformat_minor": 5
}
