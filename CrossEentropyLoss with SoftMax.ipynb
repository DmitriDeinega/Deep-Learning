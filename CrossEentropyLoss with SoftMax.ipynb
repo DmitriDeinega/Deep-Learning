{
 "cells": [
  {
   "cell_type": "code",
   "execution_count": 1,
   "id": "8a9b93b5-82e9-48de-99c2-93196940a0f3",
   "metadata": {},
   "outputs": [],
   "source": [
    "import torch"
   ]
  },
  {
   "cell_type": "code",
   "execution_count": 4,
   "id": "98db0185-d94f-4ad0-a307-4bdf65bf7225",
   "metadata": {},
   "outputs": [
    {
     "name": "stdout",
     "output_type": "stream",
     "text": [
      "tensor([[0., 0., 1.]])\n",
      "tensor([[0.2119, 0.2119, 0.5761]])\n",
      "tensor([2])\n",
      "tensor(0.5514)\n",
      "tensor(0.)\n"
     ]
    }
   ],
   "source": [
    "out = torch.tensor ([[0.0, 0.0, 1.0]])\n",
    "out_logits = torch.tensor ([[-1.e6, -1.e6, 1.e6]])\n",
    "\n",
    "print(torch.softmax (out_logits, 1))\n",
    "print(torch.softmax (out, 1))\n",
    "# tensor([[0., 1., 0.]])\n",
    "target = torch.argmax (out, dim = 1)\n",
    "print(target)\n",
    "# tensor([1])\n",
    "print(torch.nn.CrossEntropyLoss() (out, target))\n",
    "# tensor(0.5514)\n",
    "print(torch.nn.CrossEntropyLoss() (out_logits, target))\n",
    "# tensor(0.)"
   ]
  }
 ],
 "metadata": {
  "kernelspec": {
   "display_name": "torch",
   "language": "python",
   "name": "torch"
  },
  "language_info": {
   "codemirror_mode": {
    "name": "ipython",
    "version": 3
   },
   "file_extension": ".py",
   "mimetype": "text/x-python",
   "name": "python",
   "nbconvert_exporter": "python",
   "pygments_lexer": "ipython3",
   "version": "3.12.2"
  }
 },
 "nbformat": 4,
 "nbformat_minor": 5
}
