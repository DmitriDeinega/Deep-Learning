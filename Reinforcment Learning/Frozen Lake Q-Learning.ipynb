{
 "cells": [
  {
   "cell_type": "code",
   "execution_count": 1,
   "id": "38cc8979-3688-4bc1-b8ae-82a2126e0599",
   "metadata": {},
   "outputs": [],
   "source": [
    "import gym\n",
    "import numpy as np\n",
    "import random"
   ]
  },
  {
   "cell_type": "code",
   "execution_count": 2,
   "id": "db761333-3acb-46dd-9fac-0772317f159e",
   "metadata": {},
   "outputs": [],
   "source": [
    "env = gym.make('FrozenLake-v1', desc=None, map_name=\"4x4\", is_slippery=True)"
   ]
  },
  {
   "cell_type": "code",
   "execution_count": 25,
   "id": "c6273457-781c-49d3-9c18-fb28acdb2d8a",
   "metadata": {},
   "outputs": [],
   "source": [
    "epsilon = 0.1\n",
    "gamma = 0.95\n",
    "alpha = 0.1\n",
    "num_episodes = 10000"
   ]
  },
  {
   "cell_type": "code",
   "execution_count": 28,
   "id": "ce811351-dafe-4b93-9301-c51094d28ea8",
   "metadata": {},
   "outputs": [],
   "source": [
    "q = np.zeros([env.observation_space.n, env.action_space.n])\n",
    "\n",
    "for k in range(num_episodes):\n",
    "    s, _ = env.reset()\n",
    "    done = False\n",
    "\n",
    "    while not done:\n",
    "        a = np.argmax(q[s]) if random.random() >= epsilon else env.action_space.sample()\n",
    "        \n",
    "        s_n, r, done, truncated, info = env.step(a)\n",
    "        \n",
    "        q[s][a] = q[s][a] + alpha * (r + gamma * np.max(q[s_n]) - q[s][a])\n",
    "        \n",
    "        s = s_n"
   ]
  },
  {
   "cell_type": "code",
   "execution_count": 29,
   "id": "637217c3-484a-4c34-ae6b-130646415e7c",
   "metadata": {},
   "outputs": [
    {
     "data": {
      "text/plain": [
       "array([[0.20319279, 0.15267013, 0.16966345, 0.15016848],\n",
       "       [0.0767655 , 0.10395113, 0.07264982, 0.145746  ],\n",
       "       [0.13799544, 0.12181722, 0.11019441, 0.11705123],\n",
       "       [0.09523225, 0.04534594, 0.01323574, 0.04482701],\n",
       "       [0.24101245, 0.13885985, 0.08810491, 0.08827016],\n",
       "       [0.        , 0.        , 0.        , 0.        ],\n",
       "       [0.11774691, 0.12444895, 0.15934868, 0.02573226],\n",
       "       [0.        , 0.        , 0.        , 0.        ],\n",
       "       [0.15865826, 0.15875065, 0.18285646, 0.30528647],\n",
       "       [0.2023585 , 0.4157592 , 0.23159353, 0.15675047],\n",
       "       [0.37378172, 0.3080194 , 0.29270617, 0.15452477],\n",
       "       [0.        , 0.        , 0.        , 0.        ],\n",
       "       [0.        , 0.        , 0.        , 0.        ],\n",
       "       [0.23234051, 0.37900488, 0.54502864, 0.3657216 ],\n",
       "       [0.48601587, 0.56357522, 0.69999598, 0.47681527],\n",
       "       [0.        , 0.        , 0.        , 0.        ]])"
      ]
     },
     "execution_count": 29,
     "metadata": {},
     "output_type": "execute_result"
    }
   ],
   "source": [
    "q"
   ]
  }
 ],
 "metadata": {
  "kernelspec": {
   "display_name": "torch",
   "language": "python",
   "name": "torch"
  },
  "language_info": {
   "codemirror_mode": {
    "name": "ipython",
    "version": 3
   },
   "file_extension": ".py",
   "mimetype": "text/x-python",
   "name": "python",
   "nbconvert_exporter": "python",
   "pygments_lexer": "ipython3",
   "version": "3.12.2"
  }
 },
 "nbformat": 4,
 "nbformat_minor": 5
}
