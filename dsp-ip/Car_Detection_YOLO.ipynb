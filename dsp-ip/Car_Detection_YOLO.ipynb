{
 "cells": [
  {
   "cell_type": "code",
   "execution_count": 1,
   "id": "dc35be9c",
   "metadata": {
    "scrolled": true
   },
   "outputs": [
    {
     "name": "stdout",
     "output_type": "stream",
     "text": [
      "INFO:tensorflow:Enabling eager execution\n",
      "INFO:tensorflow:Enabling v2 tensorshape\n",
      "INFO:tensorflow:Enabling resource variables\n",
      "INFO:tensorflow:Enabling tensor equality\n",
      "INFO:tensorflow:Enabling control flow v2\n",
      "INFO:tensorflow:Disabling eager execution\n",
      "INFO:tensorflow:Disabling v2 tensorshape\n",
      "WARNING:tensorflow:From C:\\Users\\Dima\\venv\\lib\\site-packages\\tensorflow\\python\\compat\\v2_compat.py:96: disable_resource_variables (from tensorflow.python.ops.variable_scope) is deprecated and will be removed in a future version.\n",
      "Instructions for updating:\n",
      "non-resource variables are not supported in the long term\n",
      "INFO:tensorflow:Disabling resource variables\n",
      "INFO:tensorflow:Disabling tensor equality\n",
      "INFO:tensorflow:Disabling control flow v2\n"
     ]
    }
   ],
   "source": [
    "import tensorflow.compat.v1 as tf # use import tensorflow as tf incase you use TF1\n",
    "import tensornets as nets\n",
    "import cv2\n",
    "import numpy as np\n",
    "from PIL import Image, ImageDraw\n",
    "\n",
    "tf.disable_v2_behavior() # incase you use TF2, if TF1 then mark this line"
   ]
  },
  {
   "cell_type": "code",
   "execution_count": 9,
   "id": "58e12ed0",
   "metadata": {},
   "outputs": [],
   "source": [
    "MODEL_TRESHOLD = .73\n",
    "MODEL_CAR_CLASS = 2 # car class in tensornets\n",
    "MODEL_WIDTH = 416\n",
    "MODEL_HEIGHT = 416\n",
    "\n",
    "def find_cars_in_image(image_name):\n",
    "    \n",
    "    inputs = tf.placeholder(tf.float32, [None, MODEL_WIDTH, MODEL_HEIGHT, 3]) \n",
    "    model = nets.YOLOv3COCO(inputs, nets.Darknet19, reuse = tf.AUTO_REUSE)\n",
    "    \n",
    "    with tf.Session() as sess:\n",
    "    \n",
    "        with Image.open(image_name) as img:\n",
    "            \n",
    "            original_width, original_height = img.size\n",
    "\n",
    "            sess.run(model.pretrained())\n",
    "\n",
    "            img_resized = img.resize((MODEL_WIDTH, MODEL_HEIGHT))\n",
    "            img_reshaped = np.array(img_resized).reshape(-1,MODEL_WIDTH, MODEL_HEIGHT, 3)\n",
    "            preds = sess.run(model.preds, {inputs: model.preprocess(img_reshaped)})\n",
    "            boxes = model.get_boxes(preds, img_reshaped.shape[1:3])\n",
    "            boxes1 = np.array(boxes)\n",
    "\n",
    "            if len(boxes1) != 0:\n",
    "                \n",
    "                #img = img.resize((original_width, original_height))\n",
    "                json_data = ''\n",
    "                object_numer = 1\n",
    "                \n",
    "                for i in range(len(boxes1[MODEL_CAR_CLASS])):\n",
    "                    box = boxes1[MODEL_CAR_CLASS][i]\n",
    "                    if boxes1[MODEL_CAR_CLASS][i][4] >= MODEL_TRESHOLD:\n",
    "                        \n",
    "                        original_size_x0 = (original_width / MODEL_WIDTH) * box[0]\n",
    "                        original_size_y0 = (original_height / MODEL_HEIGHT) * box[1]\n",
    "                        original_size_x1 = (original_width / MODEL_WIDTH) * box[2]\n",
    "                        original_size_y1 = (original_height / MODEL_HEIGHT) * box[3]\n",
    "                        shape = [(original_size_x0, original_size_y0), (original_size_x1, original_size_y1)]\n",
    "                        \n",
    "                        if json_data != '':\n",
    "                            json_data = json_data + ','\n",
    "                        \n",
    "                        json_data = json_data + '\\n\\t\"object ' + str(object_numer) + '\" : \"' + str(original_size_x0) + ',' + str(original_size_y0)\n",
    "                        json_data = json_data  + ',' + str(original_size_x1) + ',' + str(original_size_y1) + '\"'\n",
    "                        \n",
    "                        object_numer = object_numer + 1\n",
    "                        img_with_rectangle = ImageDraw.Draw(img)\n",
    "                        img_with_rectangle.rectangle(shape, outline = \"red\")\n",
    "                \n",
    "                json_data = '{' + json_data + '\\n}'\n",
    "                \n",
    "                with open('boxes.json', 'w') as f:\n",
    "                    f.write(json_data)\n",
    "                img.save(image_name, format=None)\n",
    "\n",
    "def find_cars_in_video(video_name):\n",
    "\n",
    "    inputs = tf.placeholder(tf.float32, [None, MODEL_WIDTH, MODEL_HEIGHT, 3]) \n",
    "    model = nets.YOLOv3COCO(inputs, nets.Darknet19, reuse=tf.AUTO_REUSE)\n",
    "    \n",
    "    with tf.Session() as sess:\n",
    "    \n",
    "        sess.run(model.pretrained())\n",
    "        \n",
    "        cap = cv2.VideoCapture(video_name)\n",
    "        original_width  = int(cap.get(cv2.CAP_PROP_FRAME_WIDTH))\n",
    "        original_height = int(cap.get(cv2.CAP_PROP_FRAME_HEIGHT))\n",
    "        total_frames = int(cap.get(cv2.CAP_PROP_FRAME_COUNT))\n",
    "        \n",
    "        img_array = []\n",
    "        frame_num = 1\n",
    "        \n",
    "        while(frame_num < total_frames):\n",
    "\n",
    "            ret, frame = cap.read()\n",
    "            img_resized = cv2.resize(frame, (MODEL_WIDTH, MODEL_HEIGHT))\n",
    "            img_reshaped = np.array(img_resized).reshape(-1, MODEL_WIDTH, MODEL_HEIGHT, 3)\n",
    "            preds = sess.run(model.preds, {inputs: model.preprocess(img_reshaped)})\n",
    "            boxes = model.get_boxes(preds, img_reshaped.shape[1:3])\n",
    "            \n",
    "            boxes1 = np.array(boxes)\n",
    "            \n",
    "            if len(boxes1) != 0:\n",
    "                for i in range(len(boxes1[MODEL_CAR_CLASS])):\n",
    "                    box = boxes1[MODEL_CAR_CLASS][i]\n",
    "                    if boxes1[MODEL_CAR_CLASS][i][4] >= MODEL_TRESHOLD:\n",
    "                        \n",
    "                        original_size_x0 = int((original_width / MODEL_WIDTH) * box[0])\n",
    "                        original_size_y0 = int((original_height / MODEL_HEIGHT) * box[1])\n",
    "                        original_size_x1 = int((original_width / MODEL_WIDTH) * box[2])\n",
    "                        original_size_y1 = int((original_height / MODEL_HEIGHT) * box[3])\n",
    "                        #cv2.rectangle(img, (box[0], box[1]), (box[2], box[3]), (0, 255, 0), 3)\n",
    "                        cv2.rectangle(frame, (original_size_x0, original_size_y0), (original_size_x1, original_size_y1), (0, 255, 0), 3)\n",
    "                        \n",
    "            img_array.append(frame)\n",
    "            frame_num = frame_num + 1\n",
    "        \n",
    "        new_video_name = video_name[0:video_name.rfind('.')] + '_With_Boxes.avi'\n",
    "        \n",
    "        video = cv2.VideoWriter(new_video_name, cv2.VideoWriter_fourcc(*'DIVX'), 15, (original_width, original_height))\n",
    "\n",
    "        for i in range(len(img_array)):\n",
    "            video.write(cv2.resize(img_array[i], (original_width, original_height)))\n",
    "        video.release()"
   ]
  },
  {
   "cell_type": "code",
   "execution_count": 7,
   "id": "71efd49e",
   "metadata": {
    "scrolled": true
   },
   "outputs": [
    {
     "name": "stderr",
     "output_type": "stream",
     "text": [
      "<ipython-input-6-dde844f81631>:23: VisibleDeprecationWarning: Creating an ndarray from ragged nested sequences (which is a list-or-tuple of lists-or-tuples-or ndarrays with different lengths or shapes) is deprecated. If you meant to do this, you must specify 'dtype=object' when creating the ndarray.\n",
      "  boxes1 = np.array(boxes)\n"
     ]
    }
   ],
   "source": [
    "find_cars_in_image('a.jpg')"
   ]
  },
  {
   "cell_type": "code",
   "execution_count": 10,
   "id": "3e18f97e",
   "metadata": {},
   "outputs": [
    {
     "name": "stderr",
     "output_type": "stream",
     "text": [
      "<ipython-input-9-07cb9285ceba>:82: VisibleDeprecationWarning: Creating an ndarray from ragged nested sequences (which is a list-or-tuple of lists-or-tuples-or ndarrays with different lengths or shapes) is deprecated. If you meant to do this, you must specify 'dtype=object' when creating the ndarray.\n",
      "  boxes1 = np.array(boxes)\n"
     ]
    }
   ],
   "source": [
    "find_cars_in_video('Video.mp4')"
   ]
  },
  {
   "cell_type": "code",
   "execution_count": null,
   "id": "c35e8e5e",
   "metadata": {},
   "outputs": [],
   "source": []
  }
 ],
 "metadata": {
  "kernelspec": {
   "display_name": "Tensorflow",
   "language": "python",
   "name": "tensorflow"
  },
  "language_info": {
   "codemirror_mode": {
    "name": "ipython",
    "version": 3
   },
   "file_extension": ".py",
   "mimetype": "text/x-python",
   "name": "python",
   "nbconvert_exporter": "python",
   "pygments_lexer": "ipython3",
   "version": "3.9.4"
  }
 },
 "nbformat": 4,
 "nbformat_minor": 5
}
